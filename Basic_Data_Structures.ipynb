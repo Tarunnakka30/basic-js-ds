{
  "nbformat": 4,
  "nbformat_minor": 0,
  "metadata": {
    "colab": {
      "provenance": [],
      "authorship_tag": "ABX9TyPSA93yqynelTv2bW5E0wZe",
      "include_colab_link": true
    },
    "kernelspec": {
      "name": "python3",
      "display_name": "Python 3"
    },
    "language_info": {
      "name": "python"
    }
  },
  "cells": [
    {
      "cell_type": "markdown",
      "metadata": {
        "id": "view-in-github",
        "colab_type": "text"
      },
      "source": [
        "<a href=\"https://colab.research.google.com/github/Tarunnakka30/basic-js-ds/blob/main/Basic_Data_Structures.ipynb\" target=\"_parent\"><img src=\"https://colab.research.google.com/assets/colab-badge.svg\" alt=\"Open In Colab\"/></a>"
      ]
    },
    {
      "cell_type": "markdown",
      "source": [
        "# Use an Array to Store a Collection of Data\n",
        "The below is an example of the simplest implementation of an array data structure. This is known as a one-dimensional array, meaning it only has one level, or that it does not have any other arrays nested within it. Notice it contains booleans, strings, and numbers, among other valid JavaScript data types:"
      ],
      "metadata": {
        "id": "u0wFOn1moq1z"
      }
    },
    {
      "cell_type": "code",
      "source": [
        "let simpleArray = ['one', 2, 'three', true, false, undefined, null];\n",
        "console.log(simpleArray.length);"
      ],
      "metadata": {
        "id": "daAyNRSRouIP"
      },
      "execution_count": null,
      "outputs": []
    },
    {
      "cell_type": "markdown",
      "source": [
        "The console.log call displays 7.\n",
        "\n",
        "All arrays have a length property, which as shown above, can be very easily accessed with the syntax Array.length. A more complex implementation of an array can be seen below. This is known as a multi-dimensional array, or an array that contains other arrays. Notice that this array also contains JavaScript objects, which we will examine very closely in our next section, but for now, all you need to know is that arrays are also capable of storing complex objects."
      ],
      "metadata": {
        "id": "7radqM7Koumz"
      }
    },
    {
      "cell_type": "code",
      "source": [
        "let complexArray = [\n",
        "  [\n",
        "    {\n",
        "      one: 1,\n",
        "      two: 2\n",
        "    },\n",
        "    {\n",
        "      three: 3,\n",
        "      four: 4\n",
        "    }\n",
        "  ],\n",
        "  [\n",
        "    {\n",
        "      a: \"a\",\n",
        "      b: \"b\"\n",
        "    },\n",
        "    {\n",
        "      c: \"c\",\n",
        "      d: \"d\"\n",
        "    }\n",
        "  ]\n",
        "];"
      ],
      "metadata": {
        "id": "w_PMlFJmowiQ"
      },
      "execution_count": null,
      "outputs": []
    },
    {
      "cell_type": "markdown",
      "source": [
        "We have defined a variable called yourArray. Complete the statement by assigning an array of at least 5 elements in length to the yourArray variable. Your array should contain at least one string, one number, and one boolean."
      ],
      "metadata": {
        "id": "x6CJbqSUoykv"
      }
    },
    {
      "cell_type": "code",
      "source": [
        "let yourArray = ['Tarun', 20, true, undefined, null ];\n",
        "console.log(yourArray);"
      ],
      "metadata": {
        "id": "tWvSFO9jo0PC"
      },
      "execution_count": null,
      "outputs": []
    },
    {
      "cell_type": "markdown",
      "source": [
        "# Access an Array's Contents Using Bracket Notation\n",
        "The fundamental feature of any data structure is, of course, the ability to not only store data, but to be able to retrieve that data on command. So, now that we've learned how to create an array, let's begin to think about how we can access that array's information.\n",
        "\n",
        "When we define a simple array as seen below, there are 3 items in it:"
      ],
      "metadata": {
        "id": "P3xKev9-pfUs"
      }
    },
    {
      "cell_type": "code",
      "source": [
        "let ourArray = [\"a\", \"b\", \"c\"];"
      ],
      "metadata": {
        "id": "BCOw4OZCph1S"
      },
      "execution_count": null,
      "outputs": []
    },
    {
      "cell_type": "markdown",
      "source": [
        "In an array, each array item has an index. This index doubles as the position of that item in the array, and how you reference it. However, it is important to note, that JavaScript arrays are zero-indexed, meaning that the first element of an array is actually at the zeroth position, not the first. In order to retrieve an element from an array we can enclose an index in brackets and append it to the end of an array, or more commonly, to a variable which references an array object. This is known as bracket notation. For example, if we want to retrieve the a from ourArray and assign it to a variable, we can do so with the following code:"
      ],
      "metadata": {
        "id": "xot35PjKpjI0"
      }
    },
    {
      "cell_type": "code",
      "source": [
        "let ourVariable = ourArray[0];"
      ],
      "metadata": {
        "id": "DzJpuooDpkxA"
      },
      "execution_count": null,
      "outputs": []
    },
    {
      "cell_type": "markdown",
      "source": [
        "Now ourVariable has the value of a.\n",
        "\n",
        "In addition to accessing the value associated with an index, you can also set an index to a value using the same notation:"
      ],
      "metadata": {
        "id": "XdDopOnFpm9s"
      }
    },
    {
      "cell_type": "code",
      "source": [
        "ourArray[1] = \"not b anymore\";"
      ],
      "metadata": {
        "id": "RklAJRjNppYl"
      },
      "execution_count": null,
      "outputs": []
    },
    {
      "cell_type": "markdown",
      "source": [
        "Using bracket notation, we have now reset the item at index 1 from the string b, to not b anymore. Now ourArray is [\"a\", \"not b anymore\", \"c\"].<br><br>\n",
        "In order to complete this challenge, set the 2nd position (index 1) of myArray to anything you want, besides the letter b."
      ],
      "metadata": {
        "id": "n9jkUgkypsRo"
      }
    },
    {
      "cell_type": "code",
      "source": [
        "let myArray = [\"a\", \"b\", \"c\", \"d\"];\n",
        "myArray[1] = \"z\";\n",
        "console.log(myArray);\n",
        "\n",
        "// Output\n",
        "[ 'a', 'z', 'c', 'd' ]"
      ],
      "metadata": {
        "id": "rK6FzWTapzAI"
      },
      "execution_count": null,
      "outputs": []
    },
    {
      "cell_type": "markdown",
      "source": [
        "# Add Items to an Array with push() and unshift()\n",
        "An array's length, like the data types it can contain, is not fixed. Arrays can be defined with a length of any number of elements, and elements can be added or removed over time; in other words, arrays are mutable. In this challenge, we will look at two methods with which we can programmatically modify an array: Array.push() and Array.unshift().\n",
        "\n",
        "Both methods take one or more elements as parameters and add those elements to the array the method is being called on; the push() method adds elements to the end of an array, and unshift() adds elements to the beginning. Consider the following:"
      ],
      "metadata": {
        "id": "Hkj1plxYqsZm"
      }
    },
    {
      "cell_type": "code",
      "source": [
        "let twentyThree = 'XXIII';\n",
        "let romanNumerals = ['XXI', 'XXII'];\n",
        "\n",
        "romanNumerals.unshift('XIX', 'XX');"
      ],
      "metadata": {
        "id": "2EDnUkYSqvyX"
      },
      "execution_count": null,
      "outputs": []
    },
    {
      "cell_type": "markdown",
      "source": [
        "romanNumerals would have the value ['XIX', 'XX', 'XXI', 'XXII']."
      ],
      "metadata": {
        "id": "Xgc_exfVqycN"
      }
    },
    {
      "cell_type": "code",
      "source": [
        "romanNumerals.push(twentyThree);"
      ],
      "metadata": {
        "id": "W7a4DCJiqzFK"
      },
      "execution_count": null,
      "outputs": []
    },
    {
      "cell_type": "markdown",
      "source": [
        "romanNumerals would have the value ['XIX', 'XX', 'XXI', 'XXII', 'XXIII']. Notice that we can also pass variables, which allows us even greater flexibility in dynamically modifying our array's data.\n",
        "\n",
        "We have defined a function, mixedNumbers, which we are passing an array as an argument. Modify the function by using push() and unshift() to add 'I', 2, 'three' to the beginning of the array and 7, 'VIII', 9 to the end so that the returned array contains representations of the numbers 1-9 in order."
      ],
      "metadata": {
        "id": "P1zK_rD_q0kc"
      }
    },
    {
      "cell_type": "code",
      "source": [
        "function mixedNumbers(arr) {\n",
        "  // Only change code below this line\n",
        "  arr.push(7, 'VIII', 9);\n",
        "  arr.unshift('I', 2, 'three');\n",
        "  // Only change code above this line\n",
        "  return arr;\n",
        "}\n",
        "\n",
        "console.log(mixedNumbers(['IV', 5, 'six']));\n",
        "\n",
        "// Output\n",
        "[ 'I', 2, 'three', 'IV', 5, 'six', 7, 'VIII', 9 ]"
      ],
      "metadata": {
        "id": "VvcSuTQ-q2pZ"
      },
      "execution_count": null,
      "outputs": []
    },
    {
      "cell_type": "markdown",
      "source": [
        "# Remove Items from an Array with pop() and shift()\n",
        "Both push() and unshift() have corresponding methods that are nearly functional opposites: pop() and shift(). As you may have guessed by now, instead of adding, pop() removes an element from the end of an array, while shift() removes an element from the beginning. The key difference between pop() and shift() and their cousins push() and unshift(), is that neither method takes parameters, and each only allows an array to be modified by a single element at a time.\n",
        "\n",
        "Let's take a look:"
      ],
      "metadata": {
        "id": "i2KV8miRrgmP"
      }
    },
    {
      "cell_type": "code",
      "source": [
        "let greetings = ['whats up?', 'hello', 'see ya!'];\n",
        "\n",
        "greetings.pop();"
      ],
      "metadata": {
        "id": "i4lqmgNWrmMH"
      },
      "execution_count": null,
      "outputs": []
    },
    {
      "cell_type": "markdown",
      "source": [
        "greetings would have the value ['whats up?', 'hello']."
      ],
      "metadata": {
        "id": "jyyjjh26rn32"
      }
    },
    {
      "cell_type": "code",
      "source": [
        "greetings.shift();"
      ],
      "metadata": {
        "id": "4vv65EYDrocU"
      },
      "execution_count": null,
      "outputs": []
    },
    {
      "cell_type": "markdown",
      "source": [
        "greetings would have the value ['hello'].\n",
        "\n",
        "We can also return the value of the removed element with either method like this:"
      ],
      "metadata": {
        "id": "955NKOmlrqJB"
      }
    },
    {
      "cell_type": "code",
      "source": [
        "let popped = greetings.pop();"
      ],
      "metadata": {
        "id": "xQ_H55IKrsAr"
      },
      "execution_count": null,
      "outputs": []
    },
    {
      "cell_type": "markdown",
      "source": [
        "greetings would have the value [], and popped would have the value hello.\n",
        "\n",
        "We have defined a function, popShift, which takes an array as an argument and returns a new array. Modify the function, using pop() and shift(), to remove the first and last elements of the argument array, and assign the removed elements to their corresponding variables, so that the returned array contains their values."
      ],
      "metadata": {
        "id": "2Zpbfex3ruqO"
      }
    },
    {
      "cell_type": "code",
      "source": [
        "function popShift(arr) {\n",
        "  let popped = arr.pop(); // Change this line\n",
        "  let shifted = arr.shift(); // Change this line\n",
        "  return [shifted, popped];\n",
        "}\n",
        "\n",
        "console.log(popShift(['challenge', 'is', 'not', 'complete']));\n",
        "\n",
        "// [ 'challenge', 'complete' ]"
      ],
      "metadata": {
        "id": "ORIS01GMrvRm"
      },
      "execution_count": null,
      "outputs": []
    },
    {
      "cell_type": "markdown",
      "source": [
        "# Remove Items Using splice()\n",
        "Ok, so we've learned how to remove elements from the beginning and end of arrays using shift() and pop(), but what if we want to remove an element from somewhere in the middle? Or remove more than one element at once? Well, that's where splice() comes in. splice() allows us to do just that: remove any number of consecutive elements from anywhere in an array.\n",
        "\n",
        "splice() can take up to 3 parameters, but for now, we'll focus on just the first 2. The first two parameters of splice() are integers which represent indexes, or positions, of items in the array that splice() is being called upon. And remember, arrays are zero-indexed, so to indicate the first element of an array, we would use 0. splice()'s first parameter represents the index on the array from which to begin removing elements, while the second parameter indicates the number of elements to delete. For example:"
      ],
      "metadata": {
        "id": "kLFY8N20sOfj"
      }
    },
    {
      "cell_type": "code",
      "source": [
        "let array = ['today', 'was', 'not', 'so', 'great'];\n",
        "\n",
        "array.splice(2, 2);"
      ],
      "metadata": {
        "id": "-sCYDND_sSw3"
      },
      "execution_count": null,
      "outputs": []
    },
    {
      "cell_type": "markdown",
      "source": [
        "Here we remove 2 elements, beginning with the third element (at index 2). array would have the value ['today', 'was', 'great'].\n",
        "\n",
        "splice() not only modifies the array it's being called on, but it also returns a new array containing the value of the removed elements:"
      ],
      "metadata": {
        "id": "dqyRWXyvsUgj"
      }
    },
    {
      "cell_type": "code",
      "source": [
        "let array = ['I', 'am', 'feeling', 'really', 'happy'];\n",
        "\n",
        "let newArray = array.splice(3, 2);"
      ],
      "metadata": {
        "id": "1F9yRCnfsXgt"
      },
      "execution_count": null,
      "outputs": []
    },
    {
      "cell_type": "markdown",
      "source": [
        "newArray has the value ['really', 'happy'].\n",
        "\n",
        "We've initialized an array arr. Use splice() to remove elements from arr, so that it only contains elements that sum to the value of 10."
      ],
      "metadata": {
        "id": "CDP-txNAsZeG"
      }
    },
    {
      "cell_type": "code",
      "source": [
        "const arr = [2, 4, 5, 1, 7, 5, 2, 1];\n",
        "// Only change code below this line\n",
        "arr.splice(4,4)\n",
        "// Only change code above this line\n",
        "console.log(arr);\n",
        "\n",
        "// [ 2, 4, 5, 1 ]"
      ],
      "metadata": {
        "id": "uZUeiExTsbak"
      },
      "execution_count": null,
      "outputs": []
    }
  ]
}