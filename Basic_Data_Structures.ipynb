{
  "nbformat": 4,
  "nbformat_minor": 0,
  "metadata": {
    "colab": {
      "provenance": [],
      "collapsed_sections": [
        "u0wFOn1moq1z",
        "P3xKev9-pfUs",
        "Hkj1plxYqsZm",
        "i2KV8miRrgmP",
        "kLFY8N20sOfj",
        "3I15p-4DLerQ",
        "N4tMsPmJMrG8",
        "m3GwqVWWP-OM",
        "z8C4E4lBQ7Om",
        "vyIrtW4_SlvO",
        "x6e4XKM3VVjh"
      ],
      "authorship_tag": "ABX9TyMiZAFYqy4JMXOuQJ1/WhHo",
      "include_colab_link": true
    },
    "kernelspec": {
      "name": "python3",
      "display_name": "Python 3"
    },
    "language_info": {
      "name": "python"
    }
  },
  "cells": [
    {
      "cell_type": "markdown",
      "metadata": {
        "id": "view-in-github",
        "colab_type": "text"
      },
      "source": [
        "<a href=\"https://colab.research.google.com/github/Tarunnakka30/basic-js-ds/blob/main/Basic_Data_Structures.ipynb\" target=\"_parent\"><img src=\"https://colab.research.google.com/assets/colab-badge.svg\" alt=\"Open In Colab\"/></a>"
      ]
    },
    {
      "cell_type": "markdown",
      "source": [
        "# Use an Array to Store a Collection of Data\n",
        "The below is an example of the simplest implementation of an array data structure. This is known as a one-dimensional array, meaning it only has one level, or that it does not have any other arrays nested within it. Notice it contains booleans, strings, and numbers, among other valid JavaScript data types:"
      ],
      "metadata": {
        "id": "u0wFOn1moq1z"
      }
    },
    {
      "cell_type": "code",
      "source": [
        "let simpleArray = ['one', 2, 'three', true, false, undefined, null];\n",
        "console.log(simpleArray.length);"
      ],
      "metadata": {
        "id": "daAyNRSRouIP"
      },
      "execution_count": null,
      "outputs": []
    },
    {
      "cell_type": "markdown",
      "source": [
        "The console.log call displays 7.\n",
        "\n",
        "All arrays have a length property, which as shown above, can be very easily accessed with the syntax Array.length. A more complex implementation of an array can be seen below. This is known as a multi-dimensional array, or an array that contains other arrays. Notice that this array also contains JavaScript objects, which we will examine very closely in our next section, but for now, all you need to know is that arrays are also capable of storing complex objects."
      ],
      "metadata": {
        "id": "7radqM7Koumz"
      }
    },
    {
      "cell_type": "code",
      "source": [
        "let complexArray = [\n",
        "  [\n",
        "    {\n",
        "      one: 1,\n",
        "      two: 2\n",
        "    },\n",
        "    {\n",
        "      three: 3,\n",
        "      four: 4\n",
        "    }\n",
        "  ],\n",
        "  [\n",
        "    {\n",
        "      a: \"a\",\n",
        "      b: \"b\"\n",
        "    },\n",
        "    {\n",
        "      c: \"c\",\n",
        "      d: \"d\"\n",
        "    }\n",
        "  ]\n",
        "];"
      ],
      "metadata": {
        "id": "w_PMlFJmowiQ"
      },
      "execution_count": null,
      "outputs": []
    },
    {
      "cell_type": "markdown",
      "source": [
        "We have defined a variable called yourArray. Complete the statement by assigning an array of at least 5 elements in length to the yourArray variable. Your array should contain at least one string, one number, and one boolean."
      ],
      "metadata": {
        "id": "x6CJbqSUoykv"
      }
    },
    {
      "cell_type": "code",
      "source": [
        "let yourArray = ['Tarun', 20, true, undefined, null ];\n",
        "console.log(yourArray);"
      ],
      "metadata": {
        "id": "tWvSFO9jo0PC"
      },
      "execution_count": null,
      "outputs": []
    },
    {
      "cell_type": "markdown",
      "source": [
        "# Access an Array's Contents Using Bracket Notation\n",
        "The fundamental feature of any data structure is, of course, the ability to not only store data, but to be able to retrieve that data on command. So, now that we've learned how to create an array, let's begin to think about how we can access that array's information.\n",
        "\n",
        "When we define a simple array as seen below, there are 3 items in it:"
      ],
      "metadata": {
        "id": "P3xKev9-pfUs"
      }
    },
    {
      "cell_type": "code",
      "source": [
        "let ourArray = [\"a\", \"b\", \"c\"];"
      ],
      "metadata": {
        "id": "BCOw4OZCph1S"
      },
      "execution_count": null,
      "outputs": []
    },
    {
      "cell_type": "markdown",
      "source": [
        "In an array, each array item has an index. This index doubles as the position of that item in the array, and how you reference it. However, it is important to note, that JavaScript arrays are zero-indexed, meaning that the first element of an array is actually at the zeroth position, not the first. In order to retrieve an element from an array we can enclose an index in brackets and append it to the end of an array, or more commonly, to a variable which references an array object. This is known as bracket notation. For example, if we want to retrieve the a from ourArray and assign it to a variable, we can do so with the following code:"
      ],
      "metadata": {
        "id": "xot35PjKpjI0"
      }
    },
    {
      "cell_type": "code",
      "source": [
        "let ourVariable = ourArray[0];"
      ],
      "metadata": {
        "id": "DzJpuooDpkxA"
      },
      "execution_count": null,
      "outputs": []
    },
    {
      "cell_type": "markdown",
      "source": [
        "Now ourVariable has the value of a.\n",
        "\n",
        "In addition to accessing the value associated with an index, you can also set an index to a value using the same notation:"
      ],
      "metadata": {
        "id": "XdDopOnFpm9s"
      }
    },
    {
      "cell_type": "code",
      "source": [
        "ourArray[1] = \"not b anymore\";"
      ],
      "metadata": {
        "id": "RklAJRjNppYl"
      },
      "execution_count": null,
      "outputs": []
    },
    {
      "cell_type": "markdown",
      "source": [
        "Using bracket notation, we have now reset the item at index 1 from the string b, to not b anymore. Now ourArray is [\"a\", \"not b anymore\", \"c\"].<br><br>\n",
        "In order to complete this challenge, set the 2nd position (index 1) of myArray to anything you want, besides the letter b."
      ],
      "metadata": {
        "id": "n9jkUgkypsRo"
      }
    },
    {
      "cell_type": "code",
      "source": [
        "let myArray = [\"a\", \"b\", \"c\", \"d\"];\n",
        "myArray[1] = \"z\";\n",
        "console.log(myArray);\n",
        "\n",
        "// Output\n",
        "[ 'a', 'z', 'c', 'd' ]"
      ],
      "metadata": {
        "id": "rK6FzWTapzAI"
      },
      "execution_count": null,
      "outputs": []
    },
    {
      "cell_type": "markdown",
      "source": [
        "# Add Items to an Array with push() and unshift()\n",
        "An array's length, like the data types it can contain, is not fixed. Arrays can be defined with a length of any number of elements, and elements can be added or removed over time; in other words, arrays are mutable. In this challenge, we will look at two methods with which we can programmatically modify an array: Array.push() and Array.unshift().\n",
        "\n",
        "Both methods take one or more elements as parameters and add those elements to the array the method is being called on; the push() method adds elements to the end of an array, and unshift() adds elements to the beginning. Consider the following:"
      ],
      "metadata": {
        "id": "Hkj1plxYqsZm"
      }
    },
    {
      "cell_type": "code",
      "source": [
        "let twentyThree = 'XXIII';\n",
        "let romanNumerals = ['XXI', 'XXII'];\n",
        "\n",
        "romanNumerals.unshift('XIX', 'XX');"
      ],
      "metadata": {
        "id": "2EDnUkYSqvyX"
      },
      "execution_count": null,
      "outputs": []
    },
    {
      "cell_type": "markdown",
      "source": [
        "romanNumerals would have the value ['XIX', 'XX', 'XXI', 'XXII']."
      ],
      "metadata": {
        "id": "Xgc_exfVqycN"
      }
    },
    {
      "cell_type": "code",
      "source": [
        "romanNumerals.push(twentyThree);"
      ],
      "metadata": {
        "id": "W7a4DCJiqzFK"
      },
      "execution_count": null,
      "outputs": []
    },
    {
      "cell_type": "markdown",
      "source": [
        "romanNumerals would have the value ['XIX', 'XX', 'XXI', 'XXII', 'XXIII']. Notice that we can also pass variables, which allows us even greater flexibility in dynamically modifying our array's data.\n",
        "\n",
        "We have defined a function, mixedNumbers, which we are passing an array as an argument. Modify the function by using push() and unshift() to add 'I', 2, 'three' to the beginning of the array and 7, 'VIII', 9 to the end so that the returned array contains representations of the numbers 1-9 in order."
      ],
      "metadata": {
        "id": "P1zK_rD_q0kc"
      }
    },
    {
      "cell_type": "code",
      "source": [
        "function mixedNumbers(arr) {\n",
        "  // Only change code below this line\n",
        "  arr.push(7, 'VIII', 9);\n",
        "  arr.unshift('I', 2, 'three');\n",
        "  // Only change code above this line\n",
        "  return arr;\n",
        "}\n",
        "\n",
        "console.log(mixedNumbers(['IV', 5, 'six']));\n",
        "\n",
        "// Output\n",
        "[ 'I', 2, 'three', 'IV', 5, 'six', 7, 'VIII', 9 ]"
      ],
      "metadata": {
        "id": "VvcSuTQ-q2pZ"
      },
      "execution_count": null,
      "outputs": []
    },
    {
      "cell_type": "markdown",
      "source": [
        "# Remove Items from an Array with pop() and shift()\n",
        "Both push() and unshift() have corresponding methods that are nearly functional opposites: pop() and shift(). As you may have guessed by now, instead of adding, pop() removes an element from the end of an array, while shift() removes an element from the beginning. The key difference between pop() and shift() and their cousins push() and unshift(), is that neither method takes parameters, and each only allows an array to be modified by a single element at a time.\n",
        "\n",
        "Let's take a look:"
      ],
      "metadata": {
        "id": "i2KV8miRrgmP"
      }
    },
    {
      "cell_type": "code",
      "source": [
        "let greetings = ['whats up?', 'hello', 'see ya!'];\n",
        "\n",
        "greetings.pop();"
      ],
      "metadata": {
        "id": "i4lqmgNWrmMH"
      },
      "execution_count": null,
      "outputs": []
    },
    {
      "cell_type": "markdown",
      "source": [
        "greetings would have the value ['whats up?', 'hello']."
      ],
      "metadata": {
        "id": "jyyjjh26rn32"
      }
    },
    {
      "cell_type": "code",
      "source": [
        "greetings.shift();"
      ],
      "metadata": {
        "id": "4vv65EYDrocU"
      },
      "execution_count": null,
      "outputs": []
    },
    {
      "cell_type": "markdown",
      "source": [
        "greetings would have the value ['hello'].\n",
        "\n",
        "We can also return the value of the removed element with either method like this:"
      ],
      "metadata": {
        "id": "955NKOmlrqJB"
      }
    },
    {
      "cell_type": "code",
      "source": [
        "let popped = greetings.pop();"
      ],
      "metadata": {
        "id": "xQ_H55IKrsAr"
      },
      "execution_count": null,
      "outputs": []
    },
    {
      "cell_type": "markdown",
      "source": [
        "greetings would have the value [], and popped would have the value hello.\n",
        "\n",
        "We have defined a function, popShift, which takes an array as an argument and returns a new array. Modify the function, using pop() and shift(), to remove the first and last elements of the argument array, and assign the removed elements to their corresponding variables, so that the returned array contains their values."
      ],
      "metadata": {
        "id": "2Zpbfex3ruqO"
      }
    },
    {
      "cell_type": "code",
      "source": [
        "function popShift(arr) {\n",
        "  let popped = arr.pop(); // Change this line\n",
        "  let shifted = arr.shift(); // Change this line\n",
        "  return [shifted, popped];\n",
        "}\n",
        "\n",
        "console.log(popShift(['challenge', 'is', 'not', 'complete']));\n",
        "\n",
        "// [ 'challenge', 'complete' ]"
      ],
      "metadata": {
        "id": "ORIS01GMrvRm"
      },
      "execution_count": null,
      "outputs": []
    },
    {
      "cell_type": "markdown",
      "source": [
        "# Remove Items Using splice()\n",
        "Ok, so we've learned how to remove elements from the beginning and end of arrays using shift() and pop(), but what if we want to remove an element from somewhere in the middle? Or remove more than one element at once? Well, that's where splice() comes in. splice() allows us to do just that: remove any number of consecutive elements from anywhere in an array.\n",
        "\n",
        "splice() can take up to 3 parameters, but for now, we'll focus on just the first 2. The first two parameters of splice() are integers which represent indexes, or positions, of items in the array that splice() is being called upon. And remember, arrays are zero-indexed, so to indicate the first element of an array, we would use 0. splice()'s first parameter represents the index on the array from which to begin removing elements, while the second parameter indicates the number of elements to delete. For example:"
      ],
      "metadata": {
        "id": "kLFY8N20sOfj"
      }
    },
    {
      "cell_type": "code",
      "source": [
        "let array = ['today', 'was', 'not', 'so', 'great'];\n",
        "\n",
        "array.splice(2, 2);"
      ],
      "metadata": {
        "id": "-sCYDND_sSw3"
      },
      "execution_count": null,
      "outputs": []
    },
    {
      "cell_type": "markdown",
      "source": [
        "Here we remove 2 elements, beginning with the third element (at index 2). array would have the value ['today', 'was', 'great'].\n",
        "\n",
        "splice() not only modifies the array it's being called on, but it also returns a new array containing the value of the removed elements:"
      ],
      "metadata": {
        "id": "dqyRWXyvsUgj"
      }
    },
    {
      "cell_type": "code",
      "source": [
        "let array = ['I', 'am', 'feeling', 'really', 'happy'];\n",
        "\n",
        "let newArray = array.splice(3, 2);"
      ],
      "metadata": {
        "id": "1F9yRCnfsXgt"
      },
      "execution_count": null,
      "outputs": []
    },
    {
      "cell_type": "markdown",
      "source": [
        "newArray has the value ['really', 'happy'].\n",
        "\n",
        "We've initialized an array arr. Use splice() to remove elements from arr, so that it only contains elements that sum to the value of 10."
      ],
      "metadata": {
        "id": "CDP-txNAsZeG"
      }
    },
    {
      "cell_type": "code",
      "source": [
        "const arr = [2, 4, 5, 1, 7, 5, 2, 1];\n",
        "// Only change code below this line\n",
        "arr.splice(4,4)\n",
        "// Only change code above this line\n",
        "console.log(arr);\n",
        "\n",
        "// [ 2, 4, 5, 1 ]"
      ],
      "metadata": {
        "id": "uZUeiExTsbak"
      },
      "execution_count": null,
      "outputs": []
    },
    {
      "cell_type": "markdown",
      "source": [
        "# Add Items Using splice()\n",
        "Remember in the last challenge we mentioned that splice() can take up to three parameters? Well, you can use the third parameter, comprised of one or more element(s), to add to the array. This can be incredibly useful for quickly switching out an element, or a set of elements, for another."
      ],
      "metadata": {
        "id": "3I15p-4DLerQ"
      }
    },
    {
      "cell_type": "code",
      "source": [
        "const numbers = [10, 11, 12, 12, 15];\n",
        "const startIndex = 3;\n",
        "const amountToDelete = 1;\n",
        "\n",
        "numbers.splice(startIndex, amountToDelete, 13, 14);\n",
        "console.log(numbers);"
      ],
      "metadata": {
        "id": "mZ2YeivYMbp8"
      },
      "execution_count": null,
      "outputs": []
    },
    {
      "cell_type": "markdown",
      "source": [
        "The second occurrence of 12 is removed, and we add 13 and 14 at the same index. The numbers array would now be [ 10, 11, 12, 13, 14, 15 ].\n",
        "\n",
        "Here, we begin with an array of numbers. Then, we pass the following to splice(): The index at which to begin deleting elements (3), the number of elements to be deleted (1), and the remaining arguments (13, 14) will be inserted starting at that same index. Note that there can be any number of elements (separated by commas) following amountToDelete, each of which gets inserted.\n",
        "\n",
        "We have defined a function, htmlColorNames, which takes an array of HTML colors as an argument. Modify the function using splice() to remove the first two elements of the array and add 'DarkSalmon' and 'BlanchedAlmond' in their respective places."
      ],
      "metadata": {
        "id": "mnRQTjUGMdci"
      }
    },
    {
      "cell_type": "code",
      "source": [
        "function htmlColorNames(arr) {\n",
        "  const startIndex = 0;\n",
        "  const colorDelete = 2;\n",
        "  arr.splice(startIndex, colorDelete,\"DarkSalmon\",\"BlanchedAlmond\")\n",
        "  return arr;\n",
        "}\n",
        "\n",
        "console.log(htmlColorNames(['DarkGoldenRod', 'WhiteSmoke', 'LavenderBlush', 'PaleTurquoise', 'FireBrick']));\n",
        "\n",
        "// [ 'DarkSalmon',\n",
        "  'BlanchedAlmond',\n",
        "  'LavenderBlush',\n",
        "  'PaleTurquoise',\n",
        "  'FireBrick' ]"
      ],
      "metadata": {
        "id": "pS3zT_l3Mf97"
      },
      "execution_count": null,
      "outputs": []
    },
    {
      "cell_type": "code",
      "source": [
        "// Solution 2\n",
        "arr.splice(0, 2, \"DarkSalmon\", \"BlanchedAlmond\");"
      ],
      "metadata": {
        "id": "IDiUYnaeM2mc"
      },
      "execution_count": null,
      "outputs": []
    },
    {
      "cell_type": "markdown",
      "source": [
        "# Copy Array Items Using slice()\n",
        "The next method we will cover is slice(). Rather than modifying an array, slice() copies or extracts a given number of elements to a new array, leaving the array it is called upon untouched. slice() takes only 2 parameters — the first is the index at which to begin extraction, and the second is the index at which to stop extraction (extraction will occur up to, but not including the element at this index). Consider this:"
      ],
      "metadata": {
        "id": "N4tMsPmJMrG8"
      }
    },
    {
      "cell_type": "code",
      "source": [
        "let weatherConditions = ['rain', 'snow', 'sleet', 'hail', 'clear'];\n",
        "\n",
        "let todaysWeather = weatherConditions.slice(1, 3);"
      ],
      "metadata": {
        "id": "B6S9ABaeNUzR"
      },
      "execution_count": null,
      "outputs": []
    },
    {
      "cell_type": "markdown",
      "source": [
        "todaysWeather would have the value ['snow', 'sleet'], while weatherConditions would still have ['rain', 'snow', 'sleet', 'hail', 'clear'].\n",
        "\n",
        "In effect, we have created a new array by extracting elements from an existing array.\n",
        "\n",
        "We have defined a function, forecast, that takes an array as an argument. Modify the function using slice() to extract information from the argument array and return a new array that contains the string elements warm and sunny."
      ],
      "metadata": {
        "id": "LrKouE0NNWQy"
      }
    },
    {
      "cell_type": "code",
      "source": [
        "function forecast(arr) {\n",
        "  let todayForecast = arr.slice(2,4);\n",
        "  return todayForecast;\n",
        "}\n",
        "console.log(forecast(['cold', 'rainy', 'warm', 'sunny', 'cool', 'thunderstorms']));\n",
        "\n",
        "// [ 'warm', 'sunny' ]\n",
        "\n",
        "// Solution 2\n",
        "return arr.slice(1, 4);"
      ],
      "metadata": {
        "id": "fDNM1f8DNbxK"
      },
      "execution_count": null,
      "outputs": []
    },
    {
      "cell_type": "markdown",
      "source": [
        "# Copy an Array with the Spread Operator\n",
        "While slice() allows us to be selective about what elements of an array to copy, among several other useful tasks, ES6's new spread operator allows us to easily copy all of an array's elements, in order, with a simple and highly readable syntax. The spread syntax simply looks like this: ...\n",
        "\n",
        "In practice, we can use the spread operator to copy an array like so:"
      ],
      "metadata": {
        "id": "m3GwqVWWP-OM"
      }
    },
    {
      "cell_type": "code",
      "source": [
        "let thisArray = [true, true, undefined, false, null];\n",
        "let thatArray = [...thisArray];"
      ],
      "metadata": {
        "id": "IBFh7kGMP9eJ"
      },
      "execution_count": null,
      "outputs": []
    },
    {
      "cell_type": "markdown",
      "source": [
        "thatArray equals [true, true, undefined, false, null]. thisArray remains unchanged and thatArray contains the same elements as thisArray.\n",
        "\n",
        "We have defined a function, copyMachine which takes arr (an array) and num (a number) as arguments. The function is supposed to return a new array made up of num copies of arr. We have done most of the work for you, but it doesn't work quite right yet. Modify the function using spread syntax so that it works correctly (hint: another method we have already covered might come in handy here!)."
      ],
      "metadata": {
        "id": "0q9az7neQGoG"
      }
    },
    {
      "cell_type": "code",
      "source": [
        "function copyMachine(arr, num) {\n",
        "  let newArr = [];\n",
        "  while (num >= 1) {\n",
        "    newArr.push([...arr]);\n",
        "    num--;\n",
        "  }\n",
        "  return newArr;\n",
        "}\n",
        "\n",
        "console.log(copyMachine([true, false, true], 2));\n",
        "\n",
        "// [ [ true, false, true ], [ true, false, true ] ]"
      ],
      "metadata": {
        "id": "I9vcdo1cQJRN"
      },
      "execution_count": null,
      "outputs": []
    },
    {
      "cell_type": "markdown",
      "source": [
        "# Combine Arrays with the Spread Operator\n",
        "Another huge advantage of the spread operator is the ability to combine arrays, or to insert all the elements of one array into another, at any index. With more traditional syntaxes, we can concatenate arrays, but this only allows us to combine arrays at the end of one, and at the start of another. Spread syntax makes the following operation extremely simple:"
      ],
      "metadata": {
        "id": "z8C4E4lBQ7Om"
      }
    },
    {
      "cell_type": "code",
      "source": [
        "let thisArray = ['sage', 'rosemary', 'parsley', 'thyme'];\n",
        "\n",
        "let thatArray = ['basil', 'cilantro', ...thisArray, 'coriander'];"
      ],
      "metadata": {
        "id": "8GyR22DlQ6je"
      },
      "execution_count": null,
      "outputs": []
    },
    {
      "cell_type": "markdown",
      "source": [
        "thatArray would have the value ['basil', 'cilantro', 'sage', 'rosemary', 'parsley', 'thyme', 'coriander'].\n",
        "\n",
        "Using spread syntax, we have just achieved an operation that would have been more complex and more verbose had we used traditional methods.\n",
        "\n",
        "We have defined a function spreadOut that returns the variable sentence. Modify the function using the spread operator so that it returns the array ['learning', 'to', 'code', 'is', 'fun']."
      ],
      "metadata": {
        "id": "h-4yFQeKRAgB"
      }
    },
    {
      "cell_type": "code",
      "source": [
        "function spreadOut() {\n",
        "  let fragment = ['to', 'code'];\n",
        "  let sentence = [\"learning\",...fragment,\"is\",\"fun\"]; // Change this line\n",
        "  return sentence;\n",
        "}\n",
        "\n",
        "console.log(spreadOut());\n",
        "\n",
        "// [ 'learning', 'to', 'code', 'is', 'fun' ]"
      ],
      "metadata": {
        "id": "Kp0vHSo3RC1i"
      },
      "execution_count": null,
      "outputs": []
    },
    {
      "cell_type": "markdown",
      "source": [
        "# Check For The Presence of an Element With indexOf()\n",
        "Since arrays can be changed, or mutated, at any time, there's no guarantee about where a particular piece of data will be on a given array, or if that element even still exists. Luckily, JavaScript provides us with another built-in method, indexOf(), that allows us to quickly and easily check for the presence of an element on an array. indexOf() takes an element as a parameter, and when called, it returns the position, or index, of that element, or -1 if the element does not exist on the array.\n",
        "\n",
        "For example:"
      ],
      "metadata": {
        "id": "vyIrtW4_SlvO"
      }
    },
    {
      "cell_type": "code",
      "source": [
        "let fruits = ['apples', 'pears', 'oranges', 'peaches', 'pears'];\n",
        "\n",
        "fruits.indexOf('dates');\n",
        "fruits.indexOf('oranges');\n",
        "fruits.indexOf('pears');"
      ],
      "metadata": {
        "id": "4Ti7q5csSp7M"
      },
      "execution_count": null,
      "outputs": []
    },
    {
      "cell_type": "markdown",
      "source": [
        "indexOf('dates') returns -1, indexOf('oranges') returns 2, and indexOf('pears') returns 1 (the first index at which each element exists).\n",
        "\n",
        "indexOf() can be incredibly useful for quickly checking for the presence of an element on an array. We have defined a function, quickCheck, that takes an array and an element as arguments. Modify the function using indexOf() so that it returns true if the passed element exists on the array, and false if it does not."
      ],
      "metadata": {
        "id": "YYEgy6tYSqqG"
      }
    },
    {
      "cell_type": "code",
      "source": [
        "function quickCheck(arr, elem) {\n",
        "  if(arr.indexOf(elem) >= 0){\n",
        "    return true;\n",
        "  }\n",
        "    return false;\n",
        "}\n",
        "\n",
        "console.log(quickCheck(['squash', 'onions', 'shallots'], 'mushrooms'));\n",
        "\n",
        "// false"
      ],
      "metadata": {
        "id": "TJFb_QBgSs8T"
      },
      "execution_count": null,
      "outputs": []
    },
    {
      "cell_type": "code",
      "source": [
        "// Solution 2\n",
        "return arr.indexOf(elem) >= 0 ? true : false;\n",
        "\n",
        "// Solution 3\n",
        "return arr.indexOf(elem) != -1;"
      ],
      "metadata": {
        "id": "VWPYZPVKSyZv"
      },
      "execution_count": null,
      "outputs": []
    },
    {
      "cell_type": "markdown",
      "source": [
        "# Iterate Through All an Array's Items Using For Loops\n",
        "Sometimes when working with arrays, it is very handy to be able to iterate through each item to find one or more elements that we might need, or to manipulate an array based on which data items meet a certain set of criteria. JavaScript offers several built in methods that each iterate over arrays in slightly different ways to achieve different results (such as every(), forEach(), map(), etc.), however the technique which is most flexible and offers us the greatest amount of control is a simple for loop.\n",
        "\n",
        "Consider the following:"
      ],
      "metadata": {
        "id": "x6e4XKM3VVjh"
      }
    },
    {
      "cell_type": "code",
      "source": [
        "function greaterThanTen(arr) {\n",
        "  let newArr = [];\n",
        "  for (let i = 0; i < arr.length; i++) {\n",
        "    if (arr[i] > 10) {\n",
        "      newArr.push(arr[i]);\n",
        "    }\n",
        "  }\n",
        "  return newArr;\n",
        "}\n",
        "\n",
        "greaterThanTen([2, 12, 8, 14, 80, 0, 1]);"
      ],
      "metadata": {
        "id": "wDkbLCxeVYZD"
      },
      "execution_count": null,
      "outputs": []
    },
    {
      "cell_type": "markdown",
      "source": [
        "Using a for loop, this function iterates through and accesses each element of the array, and subjects it to a simple test that we have created. In this way, we have easily and programmatically determined which data items are greater than 10, and returned a new array, [12, 14, 80], containing those items.\n",
        "\n",
        "We have defined a function, filteredArray, which takes arr, a nested array, and elem as arguments, and returns a new array. elem represents an element that may or may not be present on one or more of the arrays nested within arr. Modify the function, using a for loop, to return a filtered version of the passed array such that any array nested within arr containing elem has been removed."
      ],
      "metadata": {
        "id": "DLOv0IHNVcWq"
      }
    },
    {
      "cell_type": "code",
      "source": [
        "function filteredArray(arr, elem) {\n",
        "  let newArr = [];\n",
        "  for(let i=0; i<arr.length; i++){\n",
        "    if(arr[i].indexOf(elem) == -1){\n",
        "      newArr.push(arr[i]);\n",
        "    }\n",
        "  }\n",
        "  return newArr;\n",
        "}\n",
        "\n",
        "console.log(filteredArray([[3, 2, 3], [1, 6, 3], [3, 13, 26], [19, 3, 9]], 3));\n",
        "\n",
        "// []"
      ],
      "metadata": {
        "id": "CIgAHn5wVdCa"
      },
      "execution_count": null,
      "outputs": []
    },
    {
      "cell_type": "markdown",
      "source": [
        "# Create complex multi-dimensional arrays\n",
        "Awesome! You have just learned a ton about arrays! This has been a fairly high level overview, and there is plenty more to learn about working with arrays, much of which you will see in later sections. But before moving on to looking at Objects, let's take one more look, and see how arrays can become a bit more complex than what we have seen in previous challenges.\n",
        "\n",
        "One of the most powerful features when thinking of arrays as data structures, is that arrays can contain, or even be completely made up of other arrays. We have seen arrays that contain arrays in previous challenges, but fairly simple ones. However, arrays can contain an infinite depth of arrays that can contain other arrays, each with their own arbitrary levels of depth, and so on. In this way, an array can very quickly become a very complex data structure, known as a multi-dimensional, or nested array. Consider the following example:"
      ],
      "metadata": {
        "id": "IXXUqMFDXXvO"
      }
    },
    {
      "cell_type": "code",
      "source": [
        "let nestedArray = [\n",
        "  ['deep'],\n",
        "  [\n",
        "    ['deeper'], ['deeper']\n",
        "  ],\n",
        "  [\n",
        "    [\n",
        "      ['deepest'], ['deepest']\n",
        "    ],\n",
        "    [\n",
        "      [\n",
        "        ['deepest-est?']\n",
        "      ]\n",
        "    ]\n",
        "  ]\n",
        "];"
      ],
      "metadata": {
        "id": "ngEPDGLqXaMj"
      },
      "execution_count": null,
      "outputs": []
    },
    {
      "cell_type": "markdown",
      "source": [
        "The deep array is nested 2 levels deep. The deeper arrays are 3 levels deep. The deepest arrays are 4 levels, and the deepest-est? is 5.\n",
        "\n",
        "While this example may seem convoluted, this level of complexity is not unheard of, or even unusual, when dealing with large amounts of data. However, we can still very easily access the deepest levels of an array this complex with bracket notation:"
      ],
      "metadata": {
        "id": "lopz60eUXcRv"
      }
    },
    {
      "cell_type": "code",
      "source": [
        "console.log(nestedArray[2][1][0][0][0]);"
      ],
      "metadata": {
        "id": "CB4UjyoAXed3"
      },
      "execution_count": null,
      "outputs": []
    },
    {
      "cell_type": "markdown",
      "source": [
        "This logs the string deepest-est?. And now that we know where that piece of data is, we can reset it if we need to:"
      ],
      "metadata": {
        "id": "kccGowMrXf2p"
      }
    },
    {
      "cell_type": "code",
      "source": [
        "nestedArray[2][1][0][0][0] = 'deeper still';\n",
        "\n",
        "console.log(nestedArray[2][1][0][0][0]);"
      ],
      "metadata": {
        "id": "F-9Tf4yKXjia"
      },
      "execution_count": null,
      "outputs": []
    },
    {
      "cell_type": "markdown",
      "source": [
        "Now it logs deeper still.\n",
        "\n",
        "We have defined a variable, myNestedArray, set equal to an array. Modify myNestedArray, using any combination of strings, numbers, and booleans for data elements, so that it has exactly five levels of depth (remember, the outer-most array is level 1). Somewhere on the third level, include the string deep, on the fourth level, include the string deeper, and on the fifth level, include the string deepest."
      ],
      "metadata": {
        "id": "TpQfy7J2XlBU"
      }
    },
    {
      "cell_type": "code",
      "source": [
        "let myNestedArray = [\n",
        "  // Only change code below this line\n",
        "  ['unshift', false, 1, 2, 3, 'complex', 'nested'],\n",
        "  ['loop', 'shift', 6, 7, 1000, 'method'],\n",
        "  ['concat', false, true, 'spread', 'array',[\"deep\"]],\n",
        "  ['mutate', 1327.98, 'splice', 'slice', 'push',[[\"deeper\"]]],\n",
        "  ['iterate', 1.3849, 7, '8.4876', 'arbitrary', 'depth',[[[\"deepest\"]]]]\n",
        "  // Only change code above this line\n",
        "];\n",
        "\n",
        "console.log(myNestedArray[2][5]);\n",
        "console.log(myNestedArray[3][5]);\n",
        "console.log(myNestedArray[4][6]);\n",
        "\n",
        "// [ 'deep' ]\n",
        "   [ [ 'deeper' ] ]\n",
        "   [ [ [ 'deepest' ] ] ]"
      ],
      "metadata": {
        "id": "e_QNRjnlXqf7"
      },
      "execution_count": null,
      "outputs": []
    },
    {
      "cell_type": "markdown",
      "source": [
        "# Add Key-Value Pairs to JavaScript Objects\n",
        "At their most basic, objects are just collections of key-value pairs. In other words, they are pieces of data (values) mapped to unique identifiers called properties (keys). Take a look at an example:"
      ],
      "metadata": {
        "id": "qPpNSE2wqLc4"
      }
    },
    {
      "cell_type": "code",
      "source": [
        "const tekkenCharacter = {\n",
        "  player: 'Hwoarang',\n",
        "  fightingStyle: 'Tae Kwon Doe',\n",
        "  human: true\n",
        "};"
      ],
      "metadata": {
        "id": "dOYSlr_Uq42E"
      },
      "execution_count": null,
      "outputs": []
    },
    {
      "cell_type": "markdown",
      "source": [
        "The above code defines a Tekken video game character object called tekkenCharacter. It has three properties, each of which map to a specific value. If you want to add an additional property, such as \"origin\", it can be done by assigning origin to the object:"
      ],
      "metadata": {
        "id": "tHC9wbKJq6U0"
      }
    },
    {
      "cell_type": "code",
      "source": [
        "tekkenCharacter.origin = 'South Korea';"
      ],
      "metadata": {
        "id": "RmIr2K4Oq8Fg"
      },
      "execution_count": null,
      "outputs": []
    },
    {
      "cell_type": "markdown",
      "source": [
        "This uses dot notation. If you were to observe the tekkenCharacter object, it will now include the origin property. Hwoarang also had distinct orange hair. You can add this property with bracket notation by doing:"
      ],
      "metadata": {
        "id": "f4v-EQUPq-gZ"
      }
    },
    {
      "cell_type": "code",
      "source": [
        "tekkenCharacter['hair color'] = 'dyed orange';"
      ],
      "metadata": {
        "id": "Dp42hD-CrAKO"
      },
      "execution_count": null,
      "outputs": []
    },
    {
      "cell_type": "markdown",
      "source": [
        "Bracket notation is required if your property has a space in it or if you want to use a variable to name the property. In the above case, the property is enclosed in quotes to denote it as a string and will be added exactly as shown. Without quotes, it will be evaluated as a variable and the name of the property will be whatever value the variable is. Here's an example with a variable:\n",
        "\n"
      ],
      "metadata": {
        "id": "gq-tIZPNrCVq"
      }
    },
    {
      "cell_type": "code",
      "source": [
        "const eyes = 'eye color';\n",
        "\n",
        "tekkenCharacter[eyes] = 'brown';"
      ],
      "metadata": {
        "id": "TH21M7XYrGIG"
      },
      "execution_count": null,
      "outputs": []
    },
    {
      "cell_type": "markdown",
      "source": [
        "After adding all the examples, the object will look like this:"
      ],
      "metadata": {
        "id": "6XfRqHANrL1Q"
      }
    },
    {
      "cell_type": "code",
      "source": [
        "{\n",
        "  player: 'Hwoarang',\n",
        "  fightingStyle: 'Tae Kwon Doe',\n",
        "  human: true,\n",
        "  origin: 'South Korea',\n",
        "  'hair color': 'dyed orange',\n",
        "  'eye color': 'brown'\n",
        "};"
      ],
      "metadata": {
        "id": "S-bLqsOTrNtj"
      },
      "execution_count": null,
      "outputs": []
    },
    {
      "cell_type": "code",
      "source": [
        "const foods = {\n",
        "  apples: 25,\n",
        "  oranges: 32,\n",
        "  plums: 28\n",
        "};\n",
        "\n",
        "// Only change code below this line\n",
        "\n",
        "// Only change code above this line\n",
        "\n",
        "console.log(foods);"
      ],
      "metadata": {
        "id": "VYrsLdhxrg2X"
      },
      "execution_count": null,
      "outputs": []
    },
    {
      "cell_type": "markdown",
      "source": [
        "A foods object has been created with three entries. Using the syntax of your choice, add three more entries to it: bananas with a value of 13, grapes with a value of 35, and strawberries with a value of 27."
      ],
      "metadata": {
        "id": "fJm1CauyrPrJ"
      }
    },
    {
      "cell_type": "code",
      "source": [
        "const foods = {\n",
        "  apples: 25,\n",
        "  oranges: 32,\n",
        "  plums: 28\n",
        "};\n",
        "\n",
        "foods.bananas = 13;\n",
        "foods['grapes'] = 35;\n",
        "foods.strawberries = 27;\n",
        "\n",
        "\n",
        "console.log(foods);\n",
        "\n",
        "// { apples: 25,\n",
        "  oranges: 32,\n",
        "  plums: 28,\n",
        "  bananas: 13,\n",
        "  grapes: 35,\n",
        "  strawberries: 27 }"
      ],
      "metadata": {
        "id": "eMrgSsVmrQyN"
      },
      "execution_count": null,
      "outputs": []
    },
    {
      "cell_type": "markdown",
      "source": [
        "# Modify an Object Nested Within an Object\n",
        "Now let's take a look at a slightly more complex object. Object properties can be nested to an arbitrary depth, and their values can be any type of data supported by JavaScript, including arrays and even other objects. Consider the following:"
      ],
      "metadata": {
        "id": "mzil6rKjrnVl"
      }
    },
    {
      "cell_type": "code",
      "source": [
        "let nestedObject = {\n",
        "  id: 28802695164,\n",
        "  date: 'December 31, 2016',\n",
        "  data: {\n",
        "    totalUsers: 99,\n",
        "    online: 80,\n",
        "    onlineStatus: {\n",
        "      active: 67,\n",
        "      away: 13,\n",
        "      busy: 8\n",
        "    }\n",
        "  }\n",
        "};"
      ],
      "metadata": {
        "id": "I6U5G-06r665"
      },
      "execution_count": null,
      "outputs": []
    },
    {
      "cell_type": "markdown",
      "source": [
        "nestedObject has three properties: id (value is a number), date (value is a string), and data (value is an object with its nested structure). While structures can quickly become complex, we can still use the same notations to access the information we need. To assign the value 10 to the busy property of the nested onlineStatus object, we use dot notation to reference the property:"
      ],
      "metadata": {
        "id": "VZ_gVOcNr9uX"
      }
    },
    {
      "cell_type": "code",
      "source": [
        "nestedObject.data.onlineStatus.busy = 10;"
      ],
      "metadata": {
        "id": "IaDwIoeBr_WQ"
      },
      "execution_count": null,
      "outputs": []
    },
    {
      "cell_type": "code",
      "source": [
        "let userActivity = {\n",
        "  id: 23894201352,\n",
        "  date: 'January 1, 2017',\n",
        "  data: {\n",
        "    totalUsers: 51,\n",
        "    online: 42\n",
        "  }\n",
        "};\n",
        "console.log(userActivity);"
      ],
      "metadata": {
        "id": "J4D12IdIsBbS"
      },
      "execution_count": null,
      "outputs": []
    },
    {
      "cell_type": "markdown",
      "source": [
        "Here we've defined an object userActivity, which includes another object nested within it. Set the value of the online key to 45."
      ],
      "metadata": {
        "id": "d-LnBGhHsFCr"
      }
    },
    {
      "cell_type": "code",
      "source": [
        "let userActivity = {\n",
        "  id: 23894201352,\n",
        "  date: 'January 1, 2017',\n",
        "  data: {\n",
        "    totalUsers: 51,\n",
        "    online: 42\n",
        "  }\n",
        "};\n",
        "\n",
        "userActivity.data.online = 45;\n",
        "console.log(userActivity);\n",
        "\n",
        "// { id: 23894201352,\n",
        "  date: 'January 1, 2017',\n",
        "  data: { totalUsers: 51, online: 45 } }\n"
      ],
      "metadata": {
        "id": "lOxp8N1psFxT"
      },
      "execution_count": null,
      "outputs": []
    },
    {
      "cell_type": "markdown",
      "source": [
        "# Access Property Names with Bracket Notation\n",
        "In the first object challenge we mentioned the use of bracket notation as a way to access property values using the evaluation of a variable. For instance, imagine that our foods object is being used in a program for a supermarket cash register. We have some function that sets the selectedFood and we want to check our foods object for the presence of that food. This might look like:"
      ],
      "metadata": {
        "id": "B_6HlkLWsXXo"
      }
    },
    {
      "cell_type": "code",
      "source": [
        "let selectedFood = getCurrentFood(scannedItem);\n",
        "let inventory = foods[selectedFood];"
      ],
      "metadata": {
        "id": "SakWg0nZtWFt"
      },
      "execution_count": null,
      "outputs": []
    },
    {
      "cell_type": "markdown",
      "source": [
        "This code will evaluate the value stored in the selectedFood variable and return the value of that key in the foods object, or undefined if it is not present. Bracket notation is very useful because sometimes object properties are not known before runtime or we need to access them in a more dynamic way."
      ],
      "metadata": {
        "id": "eeAEDe_DtXwF"
      }
    },
    {
      "cell_type": "code",
      "source": [
        "let foods = {\n",
        "  apples: 25,\n",
        "  oranges: 32,\n",
        "  plums: 28,\n",
        "  bananas: 13,\n",
        "  grapes: 35,\n",
        "  strawberries: 27\n",
        "};\n",
        "\n",
        "function checkInventory(scannedItem) {\n",
        "\n",
        "}\n",
        "\n",
        "console.log(checkInventory(\"apples\"));"
      ],
      "metadata": {
        "id": "cKkBn5LvtZZm"
      },
      "execution_count": null,
      "outputs": []
    },
    {
      "cell_type": "markdown",
      "source": [
        "We've defined a function, checkInventory, which receives a scanned item as an argument. Return the current value of the scannedItem key in the foods object. You can assume that only valid keys will be provided as an argument to checkInventory."
      ],
      "metadata": {
        "id": "7i7MZsXKtn6A"
      }
    },
    {
      "cell_type": "code",
      "source": [
        "let foods = {\n",
        "  apples: 25,\n",
        "  oranges: 32,\n",
        "  plums: 28,\n",
        "  bananas: 13,\n",
        "  grapes: 35,\n",
        "  strawberries: 27\n",
        "};\n",
        "\n",
        "function checkInventory(scannedItem) {\n",
        "  return foods[scannedItem];\n",
        "}\n",
        "\n",
        "console.log(checkInventory(\"apples\"));\n",
        "\n",
        "// 25"
      ],
      "metadata": {
        "id": "91Yj36VstobR"
      },
      "execution_count": null,
      "outputs": []
    },
    {
      "cell_type": "markdown",
      "source": [
        "# Use the delete Keyword to Remove Object Properties\n",
        "Now you know what objects are and their basic features and advantages. In short, they are key-value stores which provide a flexible, intuitive way to structure data, and, they provide very fast lookup time. Throughout the rest of these challenges, we will describe several common operations you can perform on objects so you can become comfortable applying these useful data structures in your programs.\n",
        "\n",
        "In earlier challenges, we have both added to and modified an object's key-value pairs. Here we will see how we can remove a key-value pair from an object.\n",
        "\n",
        "Let's revisit our foods object example one last time. If we wanted to remove the apples key, we can remove it by using the delete keyword like this:"
      ],
      "metadata": {
        "id": "SqBtFw0GuJ32"
      }
    },
    {
      "cell_type": "code",
      "source": [
        "delete foods.apples;"
      ],
      "metadata": {
        "id": "3d5D2bcIuNFz"
      },
      "execution_count": null,
      "outputs": []
    },
    {
      "cell_type": "code",
      "source": [
        "let foods = {\n",
        "  apples: 25,\n",
        "  oranges: 32,\n",
        "  plums: 28,\n",
        "  bananas: 13,\n",
        "  grapes: 35,\n",
        "  strawberries: 27\n",
        "};\n",
        "\n",
        "// Only change code below this line\n",
        "\n",
        "// Only change code above this line\n",
        "\n",
        "console.log(foods);"
      ],
      "metadata": {
        "id": "b2ouIHYpuTGe"
      },
      "execution_count": null,
      "outputs": []
    },
    {
      "cell_type": "markdown",
      "source": [
        "Use the delete keyword to remove the oranges, plums, and strawberries keys from the foods object."
      ],
      "metadata": {
        "id": "I7HDEZVmuT0R"
      }
    },
    {
      "cell_type": "code",
      "source": [],
      "metadata": {
        "id": "VUEUg0BbuWyq"
      },
      "execution_count": null,
      "outputs": []
    },
    {
      "cell_type": "code",
      "source": [
        "let foods = {\n",
        "  apples: 25,\n",
        "  oranges: 32,\n",
        "  plums: 28,\n",
        "  bananas: 13,\n",
        "  grapes: 35,\n",
        "  strawberries: 27\n",
        "};\n",
        "\n",
        "delete foods.oranges;\n",
        "delete foods.plums;\n",
        "delete foods.strawberries;\n",
        "\n",
        "\n",
        "console.log(foods);\n",
        "\n",
        "// { apples: 25, bananas: 13, grapes: 35 }"
      ],
      "metadata": {
        "id": "Dim_VIpvuW5G"
      },
      "execution_count": null,
      "outputs": []
    },
    {
      "cell_type": "markdown",
      "source": [
        "# Check if an Object has a Property\n",
        "Now we can add, modify, and remove keys from objects. But what if we just wanted to know if an object has a specific property? JavaScript provides us with two different ways to do this. One uses the hasOwnProperty() method and the other uses the in keyword. If we have an object users with a property of Alan, we could check for its presence in either of the following ways:"
      ],
      "metadata": {
        "id": "9vow33Iiu9b1"
      }
    },
    {
      "cell_type": "code",
      "source": [
        "users.hasOwnProperty('Alan');\n",
        "'Alan' in users;"
      ],
      "metadata": {
        "id": "x_Gqdct6vCJ2"
      },
      "execution_count": null,
      "outputs": []
    },
    {
      "cell_type": "markdown",
      "source": [
        "Both of these would return true."
      ],
      "metadata": {
        "id": "qzJE3AIVvEiu"
      }
    },
    {
      "cell_type": "code",
      "source": [
        "let users = {\n",
        "  Alan: {\n",
        "    age: 27,\n",
        "    online: true\n",
        "  },\n",
        "  Jeff: {\n",
        "    age: 32,\n",
        "    online: true\n",
        "  },\n",
        "  Sarah: {\n",
        "    age: 48,\n",
        "    online: true\n",
        "  },\n",
        "  Ryan: {\n",
        "    age: 19,\n",
        "    online: true\n",
        "  }\n",
        "};\n",
        "\n",
        "function isEveryoneHere(userObj) {\n",
        "\n",
        "}\n",
        "\n",
        "console.log(isEveryoneHere(users));"
      ],
      "metadata": {
        "id": "BpGaQTRcvHys"
      },
      "execution_count": null,
      "outputs": []
    },
    {
      "cell_type": "markdown",
      "source": [
        "Finish writing the function so that it returns true if the object passed to it contains all four names, Alan, Jeff, Sarah and Ryan and returns false otherwise."
      ],
      "metadata": {
        "id": "HzFLlsI2vKJ_"
      }
    },
    {
      "cell_type": "code",
      "source": [
        "let users = {\n",
        "  Alan: {\n",
        "    age: 27,\n",
        "    online: true\n",
        "  },\n",
        "  Jeff: {\n",
        "    age: 32,\n",
        "    online: true\n",
        "  },\n",
        "  Sarah: {\n",
        "    age: 48,\n",
        "    online: true\n",
        "  },\n",
        "  Ryan: {\n",
        "    age: 19,\n",
        "    online: true\n",
        "  }\n",
        "};\n",
        "\n",
        "function isEveryoneHere(userObj) {\n",
        "\n",
        "  return userObj.hasOwnProperty(\"Alan\") &&\n",
        "    userObj.hasOwnProperty(\"Jeff\") &&\n",
        "    userObj.hasOwnProperty(\"Sarah\") &&\n",
        "    userObj.hasOwnProperty(\"Ryan\");\n",
        "\n",
        "}\n",
        "\n",
        "console.log(isEveryoneHere(users));\n",
        "\n",
        "// true"
      ],
      "metadata": {
        "id": "uWImyCiZvMiw"
      },
      "execution_count": null,
      "outputs": []
    },
    {
      "cell_type": "markdown",
      "source": [
        "# Iterate Through the Keys of an Object with a for...in Statement\n",
        "Sometimes you need to iterate through all the keys within an object. You can use a for...in loop to do this. The for...in loop looks like:"
      ],
      "metadata": {
        "id": "xATvcsHhx2lD"
      }
    },
    {
      "cell_type": "code",
      "source": [
        "const refrigerator = {\n",
        "  'milk': 1,\n",
        "  'eggs': 12,\n",
        "};\n",
        "\n",
        "for (const food in refrigerator) {\n",
        "  console.log(food, refrigerator[food]);\n",
        "}"
      ],
      "metadata": {
        "id": "xmbWv5zOx45A"
      },
      "execution_count": null,
      "outputs": []
    },
    {
      "cell_type": "markdown",
      "source": [
        "This code logs milk 1 and eggs 12, with each key-value pair on its own line.\n",
        "\n",
        "We defined the variable food in the loop head and this variable was set to each of the object's keys on each iteration, resulting in each food's name being printed to the console.\n",
        "\n",
        "NOTE: Objects do not maintain an ordering to stored keys like arrays do; thus a key's position on an object, or the relative order in which it appears, is irrelevant when referencing or accessing that key."
      ],
      "metadata": {
        "id": "Fnbrdp-Ox6ey"
      }
    },
    {
      "cell_type": "code",
      "source": [
        "const users = {\n",
        "  Alan: {\n",
        "    online: false\n",
        "  },\n",
        "  Jeff: {\n",
        "    online: true\n",
        "  },\n",
        "  Sarah: {\n",
        "    online: false\n",
        "  }\n",
        "}\n",
        "\n",
        "function countOnline(allUsers) {\n",
        "  // Only change code below this line\n",
        "\n",
        "  // Only change code above this line\n",
        "}\n",
        "\n",
        "console.log(countOnline(users));"
      ],
      "metadata": {
        "id": "S0eK_OIzx8D6"
      },
      "execution_count": null,
      "outputs": []
    },
    {
      "cell_type": "markdown",
      "source": [
        "We've defined a function countOnline which accepts one argument, allUsers. Use a for...in statement inside this function to loop through the allUsers object and return the number of users whose online property is set to true. An example of an object which could be passed to countOnline is shown below. Each user will have an online property set to either true or false."
      ],
      "metadata": {
        "id": "Vx6eNKmNyFV4"
      }
    },
    {
      "cell_type": "code",
      "source": [
        "const users = {\n",
        "  Alan: {\n",
        "    online: false\n",
        "  },\n",
        "  Jeff: {\n",
        "    online: true\n",
        "  },\n",
        "  Sarah: {\n",
        "    online: false\n",
        "  }\n",
        "}\n",
        "\n",
        "function countOnline(allUsers) {\n",
        "\n",
        "  let result = 0;\n",
        "  for(let users in allUsers){\n",
        "    if(allUsers[users].online == true){\n",
        "      result++;\n",
        "    }\n",
        "  }\n",
        "  return result;\n",
        "\n",
        "}\n",
        "\n",
        "console.log(countOnline(users));\n",
        "\n",
        "// 1"
      ],
      "metadata": {
        "id": "ar6YB9eQyF66"
      },
      "execution_count": null,
      "outputs": []
    },
    {
      "cell_type": "markdown",
      "source": [
        "# Generate an Array of All Object Keys with Object.keys()\n",
        "We can also generate an array which contains all the keys stored in an object with the Object.keys() method. This method takes an object as the argument and returns an array of strings representing each property in the object. Again, there will be no specific order to the entries in the array."
      ],
      "metadata": {
        "id": "L71e8q0Zy1tO"
      }
    },
    {
      "cell_type": "code",
      "source": [
        "let users = {\n",
        "  Alan: {\n",
        "    age: 27,\n",
        "    online: false\n",
        "  },\n",
        "  Jeff: {\n",
        "    age: 32,\n",
        "    online: true\n",
        "  },\n",
        "  Sarah: {\n",
        "    age: 48,\n",
        "    online: false\n",
        "  },\n",
        "  Ryan: {\n",
        "    age: 19,\n",
        "    online: true\n",
        "  }\n",
        "};\n",
        "\n",
        "function getArrayOfUsers(obj) {\n",
        "\n",
        "}\n",
        "\n",
        "console.log(getArrayOfUsers(users));"
      ],
      "metadata": {
        "id": "FM82YBODy6CW"
      },
      "execution_count": null,
      "outputs": []
    },
    {
      "cell_type": "markdown",
      "source": [
        "Finish writing the getArrayOfUsers function so that it returns an array containing all the properties in the object it receives as an argument."
      ],
      "metadata": {
        "id": "XiauQCXCy9mt"
      }
    },
    {
      "cell_type": "code",
      "source": [
        "let users = {\n",
        "  Alan: {\n",
        "    age: 27,\n",
        "    online: false\n",
        "  },\n",
        "  Jeff: {\n",
        "    age: 32,\n",
        "    online: true\n",
        "  },\n",
        "  Sarah: {\n",
        "    age: 48,\n",
        "    online: false\n",
        "  },\n",
        "  Ryan: {\n",
        "    age: 19,\n",
        "    online: true\n",
        "  }\n",
        "};\n",
        "\n",
        "function getArrayOfUsers(obj) {\n",
        "\n",
        "  return Object.keys(obj);\n",
        "\n",
        "}\n",
        "\n",
        "console.log(getArrayOfUsers(users));\n",
        "\n",
        "// [ 'Alan', 'Jeff', 'Sarah', 'Ryan' ]"
      ],
      "metadata": {
        "id": "VcEN-p2uy-Kq"
      },
      "execution_count": null,
      "outputs": []
    },
    {
      "cell_type": "markdown",
      "source": [
        "# Modify an Array Stored in an Object\n",
        "Now you've seen all the basic operations for JavaScript objects. You can add, modify, and remove key-value pairs, check if keys exist, and iterate over all the keys in an object. As you continue learning JavaScript you will see even more versatile applications of objects. Additionally, the Data Structures lessons located in the Coding Interview Prep section of the curriculum also cover the ES6 Map and Set objects, both of which are similar to ordinary objects but provide some additional features. Now that you've learned the basics of arrays and objects, you're fully prepared to begin tackling more complex problems using JavaScript!"
      ],
      "metadata": {
        "id": "_dIsnx6h0HJL"
      }
    },
    {
      "cell_type": "code",
      "source": [
        "let user = {\n",
        "  name: 'Kenneth',\n",
        "  age: 28,\n",
        "  data: {\n",
        "    username: 'kennethCodesAllDay',\n",
        "    joinDate: 'March 26, 2016',\n",
        "    organization: 'freeCodeCamp',\n",
        "    friends: [\n",
        "      'Sam',\n",
        "      'Kira',\n",
        "      'Tomo'\n",
        "    ],\n",
        "    location: {\n",
        "      city: 'San Francisco',\n",
        "      state: 'CA',\n",
        "      country: 'USA'\n",
        "    }\n",
        "  }\n",
        "};\n",
        "\n",
        "function addFriend(userObj, friend) {\n",
        "\n",
        "}\n",
        "\n",
        "console.log(addFriend(user, 'Pete'));"
      ],
      "metadata": {
        "id": "Tf0FNpJ30Jt2"
      },
      "execution_count": null,
      "outputs": []
    },
    {
      "cell_type": "markdown",
      "source": [
        "Take a look at the object we've provided in the code editor. The user object contains three keys. The data key contains five keys, one of which contains an array of friends. From this, you can see how flexible objects are as data structures. We've started writing a function addFriend. Finish writing it so that it takes a user object and adds the name of the friend argument to the array stored in user.data.friends and returns that array."
      ],
      "metadata": {
        "id": "dklM1nmD0PD2"
      }
    },
    {
      "cell_type": "code",
      "source": [
        "let user = {\n",
        "  name: 'Kenneth',\n",
        "  age: 28,\n",
        "  data: {\n",
        "    username: 'kennethCodesAllDay',\n",
        "    joinDate: 'March 26, 2016',\n",
        "    organization: 'freeCodeCamp',\n",
        "    friends: [\n",
        "      'Sam',\n",
        "      'Kira',\n",
        "      'Tomo'\n",
        "    ],\n",
        "    location: {\n",
        "      city: 'San Francisco',\n",
        "      state: 'CA',\n",
        "      country: 'USA'\n",
        "    }\n",
        "  }\n",
        "};\n",
        "\n",
        "function addFriend(userObj, friend) {\n",
        "\n",
        "  userObj.data.friends.push(friend);\n",
        "  return userObj.data.friends;\n",
        "\n",
        "}\n",
        "\n",
        "console.log(addFriend(user, 'Pete'));\n",
        "\n",
        "// [ 'Sam', 'Kira', 'Tomo', 'Pete' ]"
      ],
      "metadata": {
        "id": "EuKr9URd0OZo"
      },
      "execution_count": null,
      "outputs": []
    }
  ]
}