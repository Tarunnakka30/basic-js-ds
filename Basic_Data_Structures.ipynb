{
  "nbformat": 4,
  "nbformat_minor": 0,
  "metadata": {
    "colab": {
      "provenance": [],
      "authorship_tag": "ABX9TyNSXlrd744GjTDR0u1f3FqL",
      "include_colab_link": true
    },
    "kernelspec": {
      "name": "python3",
      "display_name": "Python 3"
    },
    "language_info": {
      "name": "python"
    }
  },
  "cells": [
    {
      "cell_type": "markdown",
      "metadata": {
        "id": "view-in-github",
        "colab_type": "text"
      },
      "source": [
        "<a href=\"https://colab.research.google.com/github/Tarunnakka30/basic-js-ds/blob/main/Basic_Data_Structures.ipynb\" target=\"_parent\"><img src=\"https://colab.research.google.com/assets/colab-badge.svg\" alt=\"Open In Colab\"/></a>"
      ]
    },
    {
      "cell_type": "markdown",
      "source": [
        "# Use an Array to Store a Collection of Data\n",
        "The below is an example of the simplest implementation of an array data structure. This is known as a one-dimensional array, meaning it only has one level, or that it does not have any other arrays nested within it. Notice it contains booleans, strings, and numbers, among other valid JavaScript data types:"
      ],
      "metadata": {
        "id": "u0wFOn1moq1z"
      }
    },
    {
      "cell_type": "code",
      "source": [
        "let simpleArray = ['one', 2, 'three', true, false, undefined, null];\n",
        "console.log(simpleArray.length);"
      ],
      "metadata": {
        "id": "daAyNRSRouIP"
      },
      "execution_count": null,
      "outputs": []
    },
    {
      "cell_type": "markdown",
      "source": [
        "The console.log call displays 7.\n",
        "\n",
        "All arrays have a length property, which as shown above, can be very easily accessed with the syntax Array.length. A more complex implementation of an array can be seen below. This is known as a multi-dimensional array, or an array that contains other arrays. Notice that this array also contains JavaScript objects, which we will examine very closely in our next section, but for now, all you need to know is that arrays are also capable of storing complex objects."
      ],
      "metadata": {
        "id": "7radqM7Koumz"
      }
    },
    {
      "cell_type": "code",
      "source": [
        "let complexArray = [\n",
        "  [\n",
        "    {\n",
        "      one: 1,\n",
        "      two: 2\n",
        "    },\n",
        "    {\n",
        "      three: 3,\n",
        "      four: 4\n",
        "    }\n",
        "  ],\n",
        "  [\n",
        "    {\n",
        "      a: \"a\",\n",
        "      b: \"b\"\n",
        "    },\n",
        "    {\n",
        "      c: \"c\",\n",
        "      d: \"d\"\n",
        "    }\n",
        "  ]\n",
        "];"
      ],
      "metadata": {
        "id": "w_PMlFJmowiQ"
      },
      "execution_count": null,
      "outputs": []
    },
    {
      "cell_type": "markdown",
      "source": [
        "We have defined a variable called yourArray. Complete the statement by assigning an array of at least 5 elements in length to the yourArray variable. Your array should contain at least one string, one number, and one boolean."
      ],
      "metadata": {
        "id": "x6CJbqSUoykv"
      }
    },
    {
      "cell_type": "code",
      "source": [
        "let yourArray = ['Tarun', 20, true, undefined, null ];\n",
        "console.log(yourArray);"
      ],
      "metadata": {
        "id": "tWvSFO9jo0PC"
      },
      "execution_count": null,
      "outputs": []
    },
    {
      "cell_type": "markdown",
      "source": [
        "# Access an Array's Contents Using Bracket Notation\n",
        "The fundamental feature of any data structure is, of course, the ability to not only store data, but to be able to retrieve that data on command. So, now that we've learned how to create an array, let's begin to think about how we can access that array's information.\n",
        "\n",
        "When we define a simple array as seen below, there are 3 items in it:"
      ],
      "metadata": {
        "id": "P3xKev9-pfUs"
      }
    },
    {
      "cell_type": "code",
      "source": [
        "let ourArray = [\"a\", \"b\", \"c\"];"
      ],
      "metadata": {
        "id": "BCOw4OZCph1S"
      },
      "execution_count": null,
      "outputs": []
    },
    {
      "cell_type": "markdown",
      "source": [
        "In an array, each array item has an index. This index doubles as the position of that item in the array, and how you reference it. However, it is important to note, that JavaScript arrays are zero-indexed, meaning that the first element of an array is actually at the zeroth position, not the first. In order to retrieve an element from an array we can enclose an index in brackets and append it to the end of an array, or more commonly, to a variable which references an array object. This is known as bracket notation. For example, if we want to retrieve the a from ourArray and assign it to a variable, we can do so with the following code:"
      ],
      "metadata": {
        "id": "xot35PjKpjI0"
      }
    },
    {
      "cell_type": "code",
      "source": [
        "let ourVariable = ourArray[0];"
      ],
      "metadata": {
        "id": "DzJpuooDpkxA"
      },
      "execution_count": null,
      "outputs": []
    },
    {
      "cell_type": "markdown",
      "source": [
        "Now ourVariable has the value of a.\n",
        "\n",
        "In addition to accessing the value associated with an index, you can also set an index to a value using the same notation:"
      ],
      "metadata": {
        "id": "XdDopOnFpm9s"
      }
    },
    {
      "cell_type": "code",
      "source": [
        "ourArray[1] = \"not b anymore\";"
      ],
      "metadata": {
        "id": "RklAJRjNppYl"
      },
      "execution_count": null,
      "outputs": []
    },
    {
      "cell_type": "markdown",
      "source": [
        "Using bracket notation, we have now reset the item at index 1 from the string b, to not b anymore. Now ourArray is [\"a\", \"not b anymore\", \"c\"].<br><br>\n",
        "In order to complete this challenge, set the 2nd position (index 1) of myArray to anything you want, besides the letter b."
      ],
      "metadata": {
        "id": "n9jkUgkypsRo"
      }
    },
    {
      "cell_type": "code",
      "source": [
        "let myArray = [\"a\", \"b\", \"c\", \"d\"];\n",
        "myArray[1] = \"z\";\n",
        "console.log(myArray);\n",
        "\n",
        "// Output\n",
        "[ 'a', 'z', 'c', 'd' ]"
      ],
      "metadata": {
        "id": "rK6FzWTapzAI"
      },
      "execution_count": null,
      "outputs": []
    },
    {
      "cell_type": "markdown",
      "source": [
        "# Add Items to an Array with push() and unshift()\n",
        "An array's length, like the data types it can contain, is not fixed. Arrays can be defined with a length of any number of elements, and elements can be added or removed over time; in other words, arrays are mutable. In this challenge, we will look at two methods with which we can programmatically modify an array: Array.push() and Array.unshift().\n",
        "\n",
        "Both methods take one or more elements as parameters and add those elements to the array the method is being called on; the push() method adds elements to the end of an array, and unshift() adds elements to the beginning. Consider the following:"
      ],
      "metadata": {
        "id": "Hkj1plxYqsZm"
      }
    },
    {
      "cell_type": "code",
      "source": [
        "let twentyThree = 'XXIII';\n",
        "let romanNumerals = ['XXI', 'XXII'];\n",
        "\n",
        "romanNumerals.unshift('XIX', 'XX');"
      ],
      "metadata": {
        "id": "2EDnUkYSqvyX"
      },
      "execution_count": null,
      "outputs": []
    },
    {
      "cell_type": "markdown",
      "source": [
        "romanNumerals would have the value ['XIX', 'XX', 'XXI', 'XXII']."
      ],
      "metadata": {
        "id": "Xgc_exfVqycN"
      }
    },
    {
      "cell_type": "code",
      "source": [
        "romanNumerals.push(twentyThree);"
      ],
      "metadata": {
        "id": "W7a4DCJiqzFK"
      },
      "execution_count": null,
      "outputs": []
    },
    {
      "cell_type": "markdown",
      "source": [
        "romanNumerals would have the value ['XIX', 'XX', 'XXI', 'XXII', 'XXIII']. Notice that we can also pass variables, which allows us even greater flexibility in dynamically modifying our array's data.\n",
        "\n",
        "We have defined a function, mixedNumbers, which we are passing an array as an argument. Modify the function by using push() and unshift() to add 'I', 2, 'three' to the beginning of the array and 7, 'VIII', 9 to the end so that the returned array contains representations of the numbers 1-9 in order."
      ],
      "metadata": {
        "id": "P1zK_rD_q0kc"
      }
    },
    {
      "cell_type": "code",
      "source": [
        "function mixedNumbers(arr) {\n",
        "  // Only change code below this line\n",
        "  arr.push(7, 'VIII', 9);\n",
        "  arr.unshift('I', 2, 'three');\n",
        "  // Only change code above this line\n",
        "  return arr;\n",
        "}\n",
        "\n",
        "console.log(mixedNumbers(['IV', 5, 'six']));\n",
        "\n",
        "// Output\n",
        "[ 'I', 2, 'three', 'IV', 5, 'six', 7, 'VIII', 9 ]"
      ],
      "metadata": {
        "id": "VvcSuTQ-q2pZ"
      },
      "execution_count": null,
      "outputs": []
    },
    {
      "cell_type": "markdown",
      "source": [
        "# Remove Items from an Array with pop() and shift()\n",
        "Both push() and unshift() have corresponding methods that are nearly functional opposites: pop() and shift(). As you may have guessed by now, instead of adding, pop() removes an element from the end of an array, while shift() removes an element from the beginning. The key difference between pop() and shift() and their cousins push() and unshift(), is that neither method takes parameters, and each only allows an array to be modified by a single element at a time.\n",
        "\n",
        "Let's take a look:"
      ],
      "metadata": {
        "id": "i2KV8miRrgmP"
      }
    },
    {
      "cell_type": "code",
      "source": [
        "let greetings = ['whats up?', 'hello', 'see ya!'];\n",
        "\n",
        "greetings.pop();"
      ],
      "metadata": {
        "id": "i4lqmgNWrmMH"
      },
      "execution_count": null,
      "outputs": []
    },
    {
      "cell_type": "markdown",
      "source": [
        "greetings would have the value ['whats up?', 'hello']."
      ],
      "metadata": {
        "id": "jyyjjh26rn32"
      }
    },
    {
      "cell_type": "code",
      "source": [
        "greetings.shift();"
      ],
      "metadata": {
        "id": "4vv65EYDrocU"
      },
      "execution_count": null,
      "outputs": []
    },
    {
      "cell_type": "markdown",
      "source": [
        "greetings would have the value ['hello'].\n",
        "\n",
        "We can also return the value of the removed element with either method like this:"
      ],
      "metadata": {
        "id": "955NKOmlrqJB"
      }
    },
    {
      "cell_type": "code",
      "source": [
        "let popped = greetings.pop();"
      ],
      "metadata": {
        "id": "xQ_H55IKrsAr"
      },
      "execution_count": null,
      "outputs": []
    },
    {
      "cell_type": "markdown",
      "source": [
        "greetings would have the value [], and popped would have the value hello.\n",
        "\n",
        "We have defined a function, popShift, which takes an array as an argument and returns a new array. Modify the function, using pop() and shift(), to remove the first and last elements of the argument array, and assign the removed elements to their corresponding variables, so that the returned array contains their values."
      ],
      "metadata": {
        "id": "2Zpbfex3ruqO"
      }
    },
    {
      "cell_type": "code",
      "source": [
        "function popShift(arr) {\n",
        "  let popped = arr.pop(); // Change this line\n",
        "  let shifted = arr.shift(); // Change this line\n",
        "  return [shifted, popped];\n",
        "}\n",
        "\n",
        "console.log(popShift(['challenge', 'is', 'not', 'complete']));\n",
        "\n",
        "// [ 'challenge', 'complete' ]"
      ],
      "metadata": {
        "id": "ORIS01GMrvRm"
      },
      "execution_count": null,
      "outputs": []
    },
    {
      "cell_type": "markdown",
      "source": [
        "# Remove Items Using splice()\n",
        "Ok, so we've learned how to remove elements from the beginning and end of arrays using shift() and pop(), but what if we want to remove an element from somewhere in the middle? Or remove more than one element at once? Well, that's where splice() comes in. splice() allows us to do just that: remove any number of consecutive elements from anywhere in an array.\n",
        "\n",
        "splice() can take up to 3 parameters, but for now, we'll focus on just the first 2. The first two parameters of splice() are integers which represent indexes, or positions, of items in the array that splice() is being called upon. And remember, arrays are zero-indexed, so to indicate the first element of an array, we would use 0. splice()'s first parameter represents the index on the array from which to begin removing elements, while the second parameter indicates the number of elements to delete. For example:"
      ],
      "metadata": {
        "id": "kLFY8N20sOfj"
      }
    },
    {
      "cell_type": "code",
      "source": [
        "let array = ['today', 'was', 'not', 'so', 'great'];\n",
        "\n",
        "array.splice(2, 2);"
      ],
      "metadata": {
        "id": "-sCYDND_sSw3"
      },
      "execution_count": null,
      "outputs": []
    },
    {
      "cell_type": "markdown",
      "source": [
        "Here we remove 2 elements, beginning with the third element (at index 2). array would have the value ['today', 'was', 'great'].\n",
        "\n",
        "splice() not only modifies the array it's being called on, but it also returns a new array containing the value of the removed elements:"
      ],
      "metadata": {
        "id": "dqyRWXyvsUgj"
      }
    },
    {
      "cell_type": "code",
      "source": [
        "let array = ['I', 'am', 'feeling', 'really', 'happy'];\n",
        "\n",
        "let newArray = array.splice(3, 2);"
      ],
      "metadata": {
        "id": "1F9yRCnfsXgt"
      },
      "execution_count": null,
      "outputs": []
    },
    {
      "cell_type": "markdown",
      "source": [
        "newArray has the value ['really', 'happy'].\n",
        "\n",
        "We've initialized an array arr. Use splice() to remove elements from arr, so that it only contains elements that sum to the value of 10."
      ],
      "metadata": {
        "id": "CDP-txNAsZeG"
      }
    },
    {
      "cell_type": "code",
      "source": [
        "const arr = [2, 4, 5, 1, 7, 5, 2, 1];\n",
        "// Only change code below this line\n",
        "arr.splice(4,4)\n",
        "// Only change code above this line\n",
        "console.log(arr);\n",
        "\n",
        "// [ 2, 4, 5, 1 ]"
      ],
      "metadata": {
        "id": "uZUeiExTsbak"
      },
      "execution_count": null,
      "outputs": []
    },
    {
      "cell_type": "markdown",
      "source": [
        "# Add Items Using splice()\n",
        "Remember in the last challenge we mentioned that splice() can take up to three parameters? Well, you can use the third parameter, comprised of one or more element(s), to add to the array. This can be incredibly useful for quickly switching out an element, or a set of elements, for another."
      ],
      "metadata": {
        "id": "3I15p-4DLerQ"
      }
    },
    {
      "cell_type": "code",
      "source": [
        "const numbers = [10, 11, 12, 12, 15];\n",
        "const startIndex = 3;\n",
        "const amountToDelete = 1;\n",
        "\n",
        "numbers.splice(startIndex, amountToDelete, 13, 14);\n",
        "console.log(numbers);"
      ],
      "metadata": {
        "id": "mZ2YeivYMbp8"
      },
      "execution_count": null,
      "outputs": []
    },
    {
      "cell_type": "markdown",
      "source": [
        "The second occurrence of 12 is removed, and we add 13 and 14 at the same index. The numbers array would now be [ 10, 11, 12, 13, 14, 15 ].\n",
        "\n",
        "Here, we begin with an array of numbers. Then, we pass the following to splice(): The index at which to begin deleting elements (3), the number of elements to be deleted (1), and the remaining arguments (13, 14) will be inserted starting at that same index. Note that there can be any number of elements (separated by commas) following amountToDelete, each of which gets inserted.\n",
        "\n",
        "We have defined a function, htmlColorNames, which takes an array of HTML colors as an argument. Modify the function using splice() to remove the first two elements of the array and add 'DarkSalmon' and 'BlanchedAlmond' in their respective places."
      ],
      "metadata": {
        "id": "mnRQTjUGMdci"
      }
    },
    {
      "cell_type": "code",
      "source": [
        "function htmlColorNames(arr) {\n",
        "  const startIndex = 0;\n",
        "  const colorDelete = 2;\n",
        "  arr.splice(startIndex, colorDelete,\"DarkSalmon\",\"BlanchedAlmond\")\n",
        "  return arr;\n",
        "}\n",
        "\n",
        "console.log(htmlColorNames(['DarkGoldenRod', 'WhiteSmoke', 'LavenderBlush', 'PaleTurquoise', 'FireBrick']));\n",
        "\n",
        "// [ 'DarkSalmon',\n",
        "  'BlanchedAlmond',\n",
        "  'LavenderBlush',\n",
        "  'PaleTurquoise',\n",
        "  'FireBrick' ]"
      ],
      "metadata": {
        "id": "pS3zT_l3Mf97"
      },
      "execution_count": null,
      "outputs": []
    },
    {
      "cell_type": "code",
      "source": [
        "// Solution 2\n",
        "arr.splice(0, 2, \"DarkSalmon\", \"BlanchedAlmond\");"
      ],
      "metadata": {
        "id": "IDiUYnaeM2mc"
      },
      "execution_count": null,
      "outputs": []
    },
    {
      "cell_type": "markdown",
      "source": [
        "# Copy Array Items Using slice()\n",
        "The next method we will cover is slice(). Rather than modifying an array, slice() copies or extracts a given number of elements to a new array, leaving the array it is called upon untouched. slice() takes only 2 parameters — the first is the index at which to begin extraction, and the second is the index at which to stop extraction (extraction will occur up to, but not including the element at this index). Consider this:"
      ],
      "metadata": {
        "id": "N4tMsPmJMrG8"
      }
    },
    {
      "cell_type": "code",
      "source": [
        "let weatherConditions = ['rain', 'snow', 'sleet', 'hail', 'clear'];\n",
        "\n",
        "let todaysWeather = weatherConditions.slice(1, 3);"
      ],
      "metadata": {
        "id": "B6S9ABaeNUzR"
      },
      "execution_count": null,
      "outputs": []
    },
    {
      "cell_type": "markdown",
      "source": [
        "todaysWeather would have the value ['snow', 'sleet'], while weatherConditions would still have ['rain', 'snow', 'sleet', 'hail', 'clear'].\n",
        "\n",
        "In effect, we have created a new array by extracting elements from an existing array.\n",
        "\n",
        "We have defined a function, forecast, that takes an array as an argument. Modify the function using slice() to extract information from the argument array and return a new array that contains the string elements warm and sunny."
      ],
      "metadata": {
        "id": "LrKouE0NNWQy"
      }
    },
    {
      "cell_type": "code",
      "source": [
        "function forecast(arr) {\n",
        "  let todayForecast = arr.slice(2,4);\n",
        "  return todayForecast;\n",
        "}\n",
        "console.log(forecast(['cold', 'rainy', 'warm', 'sunny', 'cool', 'thunderstorms']));\n",
        "\n",
        "// [ 'warm', 'sunny' ]\n",
        "\n",
        "// Solution 2\n",
        "return arr.slice(1, 4);"
      ],
      "metadata": {
        "id": "fDNM1f8DNbxK"
      },
      "execution_count": null,
      "outputs": []
    },
    {
      "cell_type": "markdown",
      "source": [
        "# Copy an Array with the Spread Operator\n",
        "While slice() allows us to be selective about what elements of an array to copy, among several other useful tasks, ES6's new spread operator allows us to easily copy all of an array's elements, in order, with a simple and highly readable syntax. The spread syntax simply looks like this: ...\n",
        "\n",
        "In practice, we can use the spread operator to copy an array like so:"
      ],
      "metadata": {
        "id": "m3GwqVWWP-OM"
      }
    },
    {
      "cell_type": "code",
      "source": [
        "let thisArray = [true, true, undefined, false, null];\n",
        "let thatArray = [...thisArray];"
      ],
      "metadata": {
        "id": "IBFh7kGMP9eJ"
      },
      "execution_count": null,
      "outputs": []
    },
    {
      "cell_type": "markdown",
      "source": [
        "thatArray equals [true, true, undefined, false, null]. thisArray remains unchanged and thatArray contains the same elements as thisArray.\n",
        "\n",
        "We have defined a function, copyMachine which takes arr (an array) and num (a number) as arguments. The function is supposed to return a new array made up of num copies of arr. We have done most of the work for you, but it doesn't work quite right yet. Modify the function using spread syntax so that it works correctly (hint: another method we have already covered might come in handy here!)."
      ],
      "metadata": {
        "id": "0q9az7neQGoG"
      }
    },
    {
      "cell_type": "code",
      "source": [
        "function copyMachine(arr, num) {\n",
        "  let newArr = [];\n",
        "  while (num >= 1) {\n",
        "    newArr.push([...arr]);\n",
        "    num--;\n",
        "  }\n",
        "  return newArr;\n",
        "}\n",
        "\n",
        "console.log(copyMachine([true, false, true], 2));\n",
        "\n",
        "// [ [ true, false, true ], [ true, false, true ] ]"
      ],
      "metadata": {
        "id": "I9vcdo1cQJRN"
      },
      "execution_count": null,
      "outputs": []
    },
    {
      "cell_type": "markdown",
      "source": [
        "# Combine Arrays with the Spread Operator\n",
        "Another huge advantage of the spread operator is the ability to combine arrays, or to insert all the elements of one array into another, at any index. With more traditional syntaxes, we can concatenate arrays, but this only allows us to combine arrays at the end of one, and at the start of another. Spread syntax makes the following operation extremely simple:"
      ],
      "metadata": {
        "id": "z8C4E4lBQ7Om"
      }
    },
    {
      "cell_type": "code",
      "source": [
        "let thisArray = ['sage', 'rosemary', 'parsley', 'thyme'];\n",
        "\n",
        "let thatArray = ['basil', 'cilantro', ...thisArray, 'coriander'];"
      ],
      "metadata": {
        "id": "8GyR22DlQ6je"
      },
      "execution_count": null,
      "outputs": []
    },
    {
      "cell_type": "markdown",
      "source": [
        "thatArray would have the value ['basil', 'cilantro', 'sage', 'rosemary', 'parsley', 'thyme', 'coriander'].\n",
        "\n",
        "Using spread syntax, we have just achieved an operation that would have been more complex and more verbose had we used traditional methods.\n",
        "\n",
        "We have defined a function spreadOut that returns the variable sentence. Modify the function using the spread operator so that it returns the array ['learning', 'to', 'code', 'is', 'fun']."
      ],
      "metadata": {
        "id": "h-4yFQeKRAgB"
      }
    },
    {
      "cell_type": "code",
      "source": [
        "function spreadOut() {\n",
        "  let fragment = ['to', 'code'];\n",
        "  let sentence = [\"learning\",...fragment,\"is\",\"fun\"]; // Change this line\n",
        "  return sentence;\n",
        "}\n",
        "\n",
        "console.log(spreadOut());\n",
        "\n",
        "// [ 'learning', 'to', 'code', 'is', 'fun' ]"
      ],
      "metadata": {
        "id": "Kp0vHSo3RC1i"
      },
      "execution_count": null,
      "outputs": []
    },
    {
      "cell_type": "markdown",
      "source": [
        "# Check For The Presence of an Element With indexOf()\n",
        "Since arrays can be changed, or mutated, at any time, there's no guarantee about where a particular piece of data will be on a given array, or if that element even still exists. Luckily, JavaScript provides us with another built-in method, indexOf(), that allows us to quickly and easily check for the presence of an element on an array. indexOf() takes an element as a parameter, and when called, it returns the position, or index, of that element, or -1 if the element does not exist on the array.\n",
        "\n",
        "For example:"
      ],
      "metadata": {
        "id": "vyIrtW4_SlvO"
      }
    },
    {
      "cell_type": "code",
      "source": [
        "let fruits = ['apples', 'pears', 'oranges', 'peaches', 'pears'];\n",
        "\n",
        "fruits.indexOf('dates');\n",
        "fruits.indexOf('oranges');\n",
        "fruits.indexOf('pears');"
      ],
      "metadata": {
        "id": "4Ti7q5csSp7M"
      },
      "execution_count": null,
      "outputs": []
    },
    {
      "cell_type": "markdown",
      "source": [
        "indexOf('dates') returns -1, indexOf('oranges') returns 2, and indexOf('pears') returns 1 (the first index at which each element exists).\n",
        "\n",
        "indexOf() can be incredibly useful for quickly checking for the presence of an element on an array. We have defined a function, quickCheck, that takes an array and an element as arguments. Modify the function using indexOf() so that it returns true if the passed element exists on the array, and false if it does not."
      ],
      "metadata": {
        "id": "YYEgy6tYSqqG"
      }
    },
    {
      "cell_type": "code",
      "source": [
        "function quickCheck(arr, elem) {\n",
        "  if(arr.indexOf(elem) >= 0){\n",
        "    return true;\n",
        "  }\n",
        "    return false;\n",
        "}\n",
        "\n",
        "console.log(quickCheck(['squash', 'onions', 'shallots'], 'mushrooms'));\n",
        "\n",
        "// false"
      ],
      "metadata": {
        "id": "TJFb_QBgSs8T"
      },
      "execution_count": null,
      "outputs": []
    },
    {
      "cell_type": "code",
      "source": [
        "// Solution 2\n",
        "return arr.indexOf(elem) >= 0 ? true : false;\n",
        "\n",
        "// Solution 3\n",
        "return arr.indexOf(elem) != -1;"
      ],
      "metadata": {
        "id": "VWPYZPVKSyZv"
      },
      "execution_count": null,
      "outputs": []
    },
    {
      "cell_type": "markdown",
      "source": [
        "# Iterate Through All an Array's Items Using For Loops\n",
        "Sometimes when working with arrays, it is very handy to be able to iterate through each item to find one or more elements that we might need, or to manipulate an array based on which data items meet a certain set of criteria. JavaScript offers several built in methods that each iterate over arrays in slightly different ways to achieve different results (such as every(), forEach(), map(), etc.), however the technique which is most flexible and offers us the greatest amount of control is a simple for loop.\n",
        "\n",
        "Consider the following:"
      ],
      "metadata": {
        "id": "x6e4XKM3VVjh"
      }
    },
    {
      "cell_type": "code",
      "source": [
        "function greaterThanTen(arr) {\n",
        "  let newArr = [];\n",
        "  for (let i = 0; i < arr.length; i++) {\n",
        "    if (arr[i] > 10) {\n",
        "      newArr.push(arr[i]);\n",
        "    }\n",
        "  }\n",
        "  return newArr;\n",
        "}\n",
        "\n",
        "greaterThanTen([2, 12, 8, 14, 80, 0, 1]);"
      ],
      "metadata": {
        "id": "wDkbLCxeVYZD"
      },
      "execution_count": null,
      "outputs": []
    },
    {
      "cell_type": "markdown",
      "source": [
        "Using a for loop, this function iterates through and accesses each element of the array, and subjects it to a simple test that we have created. In this way, we have easily and programmatically determined which data items are greater than 10, and returned a new array, [12, 14, 80], containing those items.\n",
        "\n",
        "We have defined a function, filteredArray, which takes arr, a nested array, and elem as arguments, and returns a new array. elem represents an element that may or may not be present on one or more of the arrays nested within arr. Modify the function, using a for loop, to return a filtered version of the passed array such that any array nested within arr containing elem has been removed."
      ],
      "metadata": {
        "id": "DLOv0IHNVcWq"
      }
    },
    {
      "cell_type": "code",
      "source": [
        "function filteredArray(arr, elem) {\n",
        "  let newArr = [];\n",
        "  for(let i=0; i<arr.length; i++){\n",
        "    if(arr[i].indexOf(elem) == -1){\n",
        "      newArr.push(arr[i]);\n",
        "    }\n",
        "  }\n",
        "  return newArr;\n",
        "}\n",
        "\n",
        "console.log(filteredArray([[3, 2, 3], [1, 6, 3], [3, 13, 26], [19, 3, 9]], 3));\n",
        "\n",
        "// []"
      ],
      "metadata": {
        "id": "CIgAHn5wVdCa"
      },
      "execution_count": null,
      "outputs": []
    },
    {
      "cell_type": "markdown",
      "source": [
        "# Create complex multi-dimensional arrays\n",
        "Awesome! You have just learned a ton about arrays! This has been a fairly high level overview, and there is plenty more to learn about working with arrays, much of which you will see in later sections. But before moving on to looking at Objects, let's take one more look, and see how arrays can become a bit more complex than what we have seen in previous challenges.\n",
        "\n",
        "One of the most powerful features when thinking of arrays as data structures, is that arrays can contain, or even be completely made up of other arrays. We have seen arrays that contain arrays in previous challenges, but fairly simple ones. However, arrays can contain an infinite depth of arrays that can contain other arrays, each with their own arbitrary levels of depth, and so on. In this way, an array can very quickly become a very complex data structure, known as a multi-dimensional, or nested array. Consider the following example:"
      ],
      "metadata": {
        "id": "IXXUqMFDXXvO"
      }
    },
    {
      "cell_type": "code",
      "source": [
        "let nestedArray = [\n",
        "  ['deep'],\n",
        "  [\n",
        "    ['deeper'], ['deeper']\n",
        "  ],\n",
        "  [\n",
        "    [\n",
        "      ['deepest'], ['deepest']\n",
        "    ],\n",
        "    [\n",
        "      [\n",
        "        ['deepest-est?']\n",
        "      ]\n",
        "    ]\n",
        "  ]\n",
        "];"
      ],
      "metadata": {
        "id": "ngEPDGLqXaMj"
      },
      "execution_count": null,
      "outputs": []
    },
    {
      "cell_type": "markdown",
      "source": [
        "The deep array is nested 2 levels deep. The deeper arrays are 3 levels deep. The deepest arrays are 4 levels, and the deepest-est? is 5.\n",
        "\n",
        "While this example may seem convoluted, this level of complexity is not unheard of, or even unusual, when dealing with large amounts of data. However, we can still very easily access the deepest levels of an array this complex with bracket notation:"
      ],
      "metadata": {
        "id": "lopz60eUXcRv"
      }
    },
    {
      "cell_type": "code",
      "source": [
        "console.log(nestedArray[2][1][0][0][0]);"
      ],
      "metadata": {
        "id": "CB4UjyoAXed3"
      },
      "execution_count": null,
      "outputs": []
    },
    {
      "cell_type": "markdown",
      "source": [
        "This logs the string deepest-est?. And now that we know where that piece of data is, we can reset it if we need to:"
      ],
      "metadata": {
        "id": "kccGowMrXf2p"
      }
    },
    {
      "cell_type": "code",
      "source": [
        "nestedArray[2][1][0][0][0] = 'deeper still';\n",
        "\n",
        "console.log(nestedArray[2][1][0][0][0]);"
      ],
      "metadata": {
        "id": "F-9Tf4yKXjia"
      },
      "execution_count": null,
      "outputs": []
    },
    {
      "cell_type": "markdown",
      "source": [
        "Now it logs deeper still.\n",
        "\n",
        "We have defined a variable, myNestedArray, set equal to an array. Modify myNestedArray, using any combination of strings, numbers, and booleans for data elements, so that it has exactly five levels of depth (remember, the outer-most array is level 1). Somewhere on the third level, include the string deep, on the fourth level, include the string deeper, and on the fifth level, include the string deepest."
      ],
      "metadata": {
        "id": "TpQfy7J2XlBU"
      }
    },
    {
      "cell_type": "code",
      "source": [
        "let myNestedArray = [\n",
        "  // Only change code below this line\n",
        "  ['unshift', false, 1, 2, 3, 'complex', 'nested'],\n",
        "  ['loop', 'shift', 6, 7, 1000, 'method'],\n",
        "  ['concat', false, true, 'spread', 'array',[\"deep\"]],\n",
        "  ['mutate', 1327.98, 'splice', 'slice', 'push',[[\"deeper\"]]],\n",
        "  ['iterate', 1.3849, 7, '8.4876', 'arbitrary', 'depth',[[[\"deepest\"]]]]\n",
        "  // Only change code above this line\n",
        "];\n",
        "\n",
        "console.log(myNestedArray[2][5]);\n",
        "console.log(myNestedArray[3][5]);\n",
        "console.log(myNestedArray[4][6]);\n",
        "\n",
        "// [ 'deep' ]\n",
        "   [ [ 'deeper' ] ]\n",
        "   [ [ [ 'deepest' ] ] ]"
      ],
      "metadata": {
        "id": "e_QNRjnlXqf7"
      },
      "execution_count": null,
      "outputs": []
    }
  ]
}